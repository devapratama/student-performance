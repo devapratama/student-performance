{
  "nbformat": 4,
  "nbformat_minor": 0,
  "metadata": {
    "colab": {
      "provenance": [],
      "toc_visible": true
    },
    "kernelspec": {
      "name": "python3",
      "display_name": "Python 3"
    },
    "language_info": {
      "name": "python"
    }
  },
  "cells": [
    {
      "cell_type": "markdown",
      "metadata": {
        "id": "H9wADwK78DCz"
      },
      "source": [
        "# Student Performance Project\n",
        "- **Nama:** Ahmad Sabil Deva Pratama\n",
        "- **Email:** devapratama4912@gmail.com\n",
        "- **ID Dicoding:** devaprtm49"
      ]
    },
    {
      "cell_type": "markdown",
      "source": [
        "# **1. Menyiapkan Library**\n",
        "Pada bagian ini, kita akan mengimpor semua library yang diperlukan untuk eksplorasi data dan analisis.\n"
      ],
      "metadata": {
        "id": "Tg80Hu6SssG7"
      }
    },
    {
      "cell_type": "code",
      "execution_count": 2,
      "metadata": {
        "id": "tqw4ZHbtsZig"
      },
      "outputs": [],
      "source": [
        "# Data manipulation\n",
        "import pandas as pd\n",
        "import numpy as np\n",
        "\n",
        "# Data visualization\n",
        "import matplotlib.pyplot as plt\n",
        "import seaborn as sns\n",
        "\n",
        "# Preprocessing and feature engineering\n",
        "from sklearn.preprocessing import LabelEncoder, StandardScaler\n",
        "from sklearn.compose import ColumnTransformer\n",
        "from sklearn.pipeline import Pipeline\n",
        "from sklearn.impute import SimpleImputer\n",
        "import category_encoders as ce\n",
        "\n",
        "# Model evaluation\n",
        "from sklearn.metrics import classification_report, confusion_matrix, ConfusionMatrixDisplay, accuracy_score, precision_score, recall_score, f1_score\n",
        "\n",
        "# Model selection and training\n",
        "from sklearn.model_selection import train_test_split, GridSearchCV\n",
        "\n",
        "# Machine learning algorithms\n",
        "from sklearn.ensemble import RandomForestClassifier\n",
        "from xgboost import XGBClassifier\n",
        "\n",
        "# Handle class imbalance\n",
        "from imblearn.over_sampling import SMOTE\n",
        "\n",
        "# Save models\n",
        "import joblib\n",
        "\n",
        "# Mengatur tampilan untuk melihat semua kolom pada DataFrame\n",
        "pd.set_option('display.max_columns', None)"
      ]
    },
    {
      "cell_type": "markdown",
      "source": [
        "# **2. Data Understanding**\n",
        "Langkah ini bertujuan untuk memahami struktur data dan kualitasnya.\n",
        "Kita akan memeriksa:\n",
        "1. **Deskripsi Data**: Untuk melihat deskripsi statistik dan informasi dari dataset.\n",
        "2. **Data Hygiene**: Untuk mengidentifikasi data yang terduplikasi dan atau data yang hilang.\n",
        "3. **Exploratory Data Analysis (EDA)**: Fokus pada analisis yang relevan dengan metric seperti Dropout Rate dan Academic Performance Index.\n"
      ],
      "metadata": {
        "id": "V_pZgBo8Xmwt"
      }
    },
    {
      "cell_type": "markdown",
      "source": [
        "## **2.1. Membaca Data**"
      ],
      "metadata": {
        "id": "-_aU3R2QX51p"
      }
    },
    {
      "cell_type": "code",
      "source": [
        "data = pd.read_csv('data.csv', delimiter=';')\n",
        "print(\"Dimensi dataset:\", data.shape)\n",
        "data.head()"
      ],
      "metadata": {
        "colab": {
          "base_uri": "https://localhost:8080/",
          "height": 243
        },
        "id": "FBF7-YfkW1wL",
        "outputId": "0e827b1c-5549-486b-e423-96cf72d2edaf"
      },
      "execution_count": 3,
      "outputs": [
        {
          "output_type": "stream",
          "name": "stdout",
          "text": [
            "Dimensi dataset: (4424, 37)\n"
          ]
        },
        {
          "output_type": "execute_result",
          "data": {
            "text/plain": [
              "   Marital_status  Application_mode  Application_order  Course  \\\n",
              "0               1                17                  5     171   \n",
              "1               1                15                  1    9254   \n",
              "2               1                 1                  5    9070   \n",
              "3               1                17                  2    9773   \n",
              "4               2                39                  1    8014   \n",
              "\n",
              "   Daytime_evening_attendance  Previous_qualification  \\\n",
              "0                           1                       1   \n",
              "1                           1                       1   \n",
              "2                           1                       1   \n",
              "3                           1                       1   \n",
              "4                           0                       1   \n",
              "\n",
              "   Previous_qualification_grade  Nacionality  Mothers_qualification  \\\n",
              "0                         122.0            1                     19   \n",
              "1                         160.0            1                      1   \n",
              "2                         122.0            1                     37   \n",
              "3                         122.0            1                     38   \n",
              "4                         100.0            1                     37   \n",
              "\n",
              "   Fathers_qualification  Mothers_occupation  Fathers_occupation  \\\n",
              "0                     12                   5                   9   \n",
              "1                      3                   3                   3   \n",
              "2                     37                   9                   9   \n",
              "3                     37                   5                   3   \n",
              "4                     38                   9                   9   \n",
              "\n",
              "   Admission_grade  Displaced  Educational_special_needs  Debtor  \\\n",
              "0            127.3          1                          0       0   \n",
              "1            142.5          1                          0       0   \n",
              "2            124.8          1                          0       0   \n",
              "3            119.6          1                          0       0   \n",
              "4            141.5          0                          0       0   \n",
              "\n",
              "   Tuition_fees_up_to_date  Gender  Scholarship_holder  Age_at_enrollment  \\\n",
              "0                        1       1                   0                 20   \n",
              "1                        0       1                   0                 19   \n",
              "2                        0       1                   0                 19   \n",
              "3                        1       0                   0                 20   \n",
              "4                        1       0                   0                 45   \n",
              "\n",
              "   International  Curricular_units_1st_sem_credited  \\\n",
              "0              0                                  0   \n",
              "1              0                                  0   \n",
              "2              0                                  0   \n",
              "3              0                                  0   \n",
              "4              0                                  0   \n",
              "\n",
              "   Curricular_units_1st_sem_enrolled  Curricular_units_1st_sem_evaluations  \\\n",
              "0                                  0                                     0   \n",
              "1                                  6                                     6   \n",
              "2                                  6                                     0   \n",
              "3                                  6                                     8   \n",
              "4                                  6                                     9   \n",
              "\n",
              "   Curricular_units_1st_sem_approved  Curricular_units_1st_sem_grade  \\\n",
              "0                                  0                        0.000000   \n",
              "1                                  6                       14.000000   \n",
              "2                                  0                        0.000000   \n",
              "3                                  6                       13.428571   \n",
              "4                                  5                       12.333333   \n",
              "\n",
              "   Curricular_units_1st_sem_without_evaluations  \\\n",
              "0                                             0   \n",
              "1                                             0   \n",
              "2                                             0   \n",
              "3                                             0   \n",
              "4                                             0   \n",
              "\n",
              "   Curricular_units_2nd_sem_credited  Curricular_units_2nd_sem_enrolled  \\\n",
              "0                                  0                                  0   \n",
              "1                                  0                                  6   \n",
              "2                                  0                                  6   \n",
              "3                                  0                                  6   \n",
              "4                                  0                                  6   \n",
              "\n",
              "   Curricular_units_2nd_sem_evaluations  Curricular_units_2nd_sem_approved  \\\n",
              "0                                     0                                  0   \n",
              "1                                     6                                  6   \n",
              "2                                     0                                  0   \n",
              "3                                    10                                  5   \n",
              "4                                     6                                  6   \n",
              "\n",
              "   Curricular_units_2nd_sem_grade  \\\n",
              "0                        0.000000   \n",
              "1                       13.666667   \n",
              "2                        0.000000   \n",
              "3                       12.400000   \n",
              "4                       13.000000   \n",
              "\n",
              "   Curricular_units_2nd_sem_without_evaluations  Unemployment_rate  \\\n",
              "0                                             0               10.8   \n",
              "1                                             0               13.9   \n",
              "2                                             0               10.8   \n",
              "3                                             0                9.4   \n",
              "4                                             0               13.9   \n",
              "\n",
              "   Inflation_rate   GDP    Status  \n",
              "0             1.4  1.74   Dropout  \n",
              "1            -0.3  0.79  Graduate  \n",
              "2             1.4  1.74   Dropout  \n",
              "3            -0.8 -3.12  Graduate  \n",
              "4            -0.3  0.79  Graduate  "
            ],
            "text/html": [
              "\n",
              "  <div id=\"df-115e9ddb-e2d0-44ae-a121-d979493b98e2\" class=\"colab-df-container\">\n",
              "    <div>\n",
              "<style scoped>\n",
              "    .dataframe tbody tr th:only-of-type {\n",
              "        vertical-align: middle;\n",
              "    }\n",
              "\n",
              "    .dataframe tbody tr th {\n",
              "        vertical-align: top;\n",
              "    }\n",
              "\n",
              "    .dataframe thead th {\n",
              "        text-align: right;\n",
              "    }\n",
              "</style>\n",
              "<table border=\"1\" class=\"dataframe\">\n",
              "  <thead>\n",
              "    <tr style=\"text-align: right;\">\n",
              "      <th></th>\n",
              "      <th>Marital_status</th>\n",
              "      <th>Application_mode</th>\n",
              "      <th>Application_order</th>\n",
              "      <th>Course</th>\n",
              "      <th>Daytime_evening_attendance</th>\n",
              "      <th>Previous_qualification</th>\n",
              "      <th>Previous_qualification_grade</th>\n",
              "      <th>Nacionality</th>\n",
              "      <th>Mothers_qualification</th>\n",
              "      <th>Fathers_qualification</th>\n",
              "      <th>Mothers_occupation</th>\n",
              "      <th>Fathers_occupation</th>\n",
              "      <th>Admission_grade</th>\n",
              "      <th>Displaced</th>\n",
              "      <th>Educational_special_needs</th>\n",
              "      <th>Debtor</th>\n",
              "      <th>Tuition_fees_up_to_date</th>\n",
              "      <th>Gender</th>\n",
              "      <th>Scholarship_holder</th>\n",
              "      <th>Age_at_enrollment</th>\n",
              "      <th>International</th>\n",
              "      <th>Curricular_units_1st_sem_credited</th>\n",
              "      <th>Curricular_units_1st_sem_enrolled</th>\n",
              "      <th>Curricular_units_1st_sem_evaluations</th>\n",
              "      <th>Curricular_units_1st_sem_approved</th>\n",
              "      <th>Curricular_units_1st_sem_grade</th>\n",
              "      <th>Curricular_units_1st_sem_without_evaluations</th>\n",
              "      <th>Curricular_units_2nd_sem_credited</th>\n",
              "      <th>Curricular_units_2nd_sem_enrolled</th>\n",
              "      <th>Curricular_units_2nd_sem_evaluations</th>\n",
              "      <th>Curricular_units_2nd_sem_approved</th>\n",
              "      <th>Curricular_units_2nd_sem_grade</th>\n",
              "      <th>Curricular_units_2nd_sem_without_evaluations</th>\n",
              "      <th>Unemployment_rate</th>\n",
              "      <th>Inflation_rate</th>\n",
              "      <th>GDP</th>\n",
              "      <th>Status</th>\n",
              "    </tr>\n",
              "  </thead>\n",
              "  <tbody>\n",
              "    <tr>\n",
              "      <th>0</th>\n",
              "      <td>1</td>\n",
              "      <td>17</td>\n",
              "      <td>5</td>\n",
              "      <td>171</td>\n",
              "      <td>1</td>\n",
              "      <td>1</td>\n",
              "      <td>122.0</td>\n",
              "      <td>1</td>\n",
              "      <td>19</td>\n",
              "      <td>12</td>\n",
              "      <td>5</td>\n",
              "      <td>9</td>\n",
              "      <td>127.3</td>\n",
              "      <td>1</td>\n",
              "      <td>0</td>\n",
              "      <td>0</td>\n",
              "      <td>1</td>\n",
              "      <td>1</td>\n",
              "      <td>0</td>\n",
              "      <td>20</td>\n",
              "      <td>0</td>\n",
              "      <td>0</td>\n",
              "      <td>0</td>\n",
              "      <td>0</td>\n",
              "      <td>0</td>\n",
              "      <td>0.000000</td>\n",
              "      <td>0</td>\n",
              "      <td>0</td>\n",
              "      <td>0</td>\n",
              "      <td>0</td>\n",
              "      <td>0</td>\n",
              "      <td>0.000000</td>\n",
              "      <td>0</td>\n",
              "      <td>10.8</td>\n",
              "      <td>1.4</td>\n",
              "      <td>1.74</td>\n",
              "      <td>Dropout</td>\n",
              "    </tr>\n",
              "    <tr>\n",
              "      <th>1</th>\n",
              "      <td>1</td>\n",
              "      <td>15</td>\n",
              "      <td>1</td>\n",
              "      <td>9254</td>\n",
              "      <td>1</td>\n",
              "      <td>1</td>\n",
              "      <td>160.0</td>\n",
              "      <td>1</td>\n",
              "      <td>1</td>\n",
              "      <td>3</td>\n",
              "      <td>3</td>\n",
              "      <td>3</td>\n",
              "      <td>142.5</td>\n",
              "      <td>1</td>\n",
              "      <td>0</td>\n",
              "      <td>0</td>\n",
              "      <td>0</td>\n",
              "      <td>1</td>\n",
              "      <td>0</td>\n",
              "      <td>19</td>\n",
              "      <td>0</td>\n",
              "      <td>0</td>\n",
              "      <td>6</td>\n",
              "      <td>6</td>\n",
              "      <td>6</td>\n",
              "      <td>14.000000</td>\n",
              "      <td>0</td>\n",
              "      <td>0</td>\n",
              "      <td>6</td>\n",
              "      <td>6</td>\n",
              "      <td>6</td>\n",
              "      <td>13.666667</td>\n",
              "      <td>0</td>\n",
              "      <td>13.9</td>\n",
              "      <td>-0.3</td>\n",
              "      <td>0.79</td>\n",
              "      <td>Graduate</td>\n",
              "    </tr>\n",
              "    <tr>\n",
              "      <th>2</th>\n",
              "      <td>1</td>\n",
              "      <td>1</td>\n",
              "      <td>5</td>\n",
              "      <td>9070</td>\n",
              "      <td>1</td>\n",
              "      <td>1</td>\n",
              "      <td>122.0</td>\n",
              "      <td>1</td>\n",
              "      <td>37</td>\n",
              "      <td>37</td>\n",
              "      <td>9</td>\n",
              "      <td>9</td>\n",
              "      <td>124.8</td>\n",
              "      <td>1</td>\n",
              "      <td>0</td>\n",
              "      <td>0</td>\n",
              "      <td>0</td>\n",
              "      <td>1</td>\n",
              "      <td>0</td>\n",
              "      <td>19</td>\n",
              "      <td>0</td>\n",
              "      <td>0</td>\n",
              "      <td>6</td>\n",
              "      <td>0</td>\n",
              "      <td>0</td>\n",
              "      <td>0.000000</td>\n",
              "      <td>0</td>\n",
              "      <td>0</td>\n",
              "      <td>6</td>\n",
              "      <td>0</td>\n",
              "      <td>0</td>\n",
              "      <td>0.000000</td>\n",
              "      <td>0</td>\n",
              "      <td>10.8</td>\n",
              "      <td>1.4</td>\n",
              "      <td>1.74</td>\n",
              "      <td>Dropout</td>\n",
              "    </tr>\n",
              "    <tr>\n",
              "      <th>3</th>\n",
              "      <td>1</td>\n",
              "      <td>17</td>\n",
              "      <td>2</td>\n",
              "      <td>9773</td>\n",
              "      <td>1</td>\n",
              "      <td>1</td>\n",
              "      <td>122.0</td>\n",
              "      <td>1</td>\n",
              "      <td>38</td>\n",
              "      <td>37</td>\n",
              "      <td>5</td>\n",
              "      <td>3</td>\n",
              "      <td>119.6</td>\n",
              "      <td>1</td>\n",
              "      <td>0</td>\n",
              "      <td>0</td>\n",
              "      <td>1</td>\n",
              "      <td>0</td>\n",
              "      <td>0</td>\n",
              "      <td>20</td>\n",
              "      <td>0</td>\n",
              "      <td>0</td>\n",
              "      <td>6</td>\n",
              "      <td>8</td>\n",
              "      <td>6</td>\n",
              "      <td>13.428571</td>\n",
              "      <td>0</td>\n",
              "      <td>0</td>\n",
              "      <td>6</td>\n",
              "      <td>10</td>\n",
              "      <td>5</td>\n",
              "      <td>12.400000</td>\n",
              "      <td>0</td>\n",
              "      <td>9.4</td>\n",
              "      <td>-0.8</td>\n",
              "      <td>-3.12</td>\n",
              "      <td>Graduate</td>\n",
              "    </tr>\n",
              "    <tr>\n",
              "      <th>4</th>\n",
              "      <td>2</td>\n",
              "      <td>39</td>\n",
              "      <td>1</td>\n",
              "      <td>8014</td>\n",
              "      <td>0</td>\n",
              "      <td>1</td>\n",
              "      <td>100.0</td>\n",
              "      <td>1</td>\n",
              "      <td>37</td>\n",
              "      <td>38</td>\n",
              "      <td>9</td>\n",
              "      <td>9</td>\n",
              "      <td>141.5</td>\n",
              "      <td>0</td>\n",
              "      <td>0</td>\n",
              "      <td>0</td>\n",
              "      <td>1</td>\n",
              "      <td>0</td>\n",
              "      <td>0</td>\n",
              "      <td>45</td>\n",
              "      <td>0</td>\n",
              "      <td>0</td>\n",
              "      <td>6</td>\n",
              "      <td>9</td>\n",
              "      <td>5</td>\n",
              "      <td>12.333333</td>\n",
              "      <td>0</td>\n",
              "      <td>0</td>\n",
              "      <td>6</td>\n",
              "      <td>6</td>\n",
              "      <td>6</td>\n",
              "      <td>13.000000</td>\n",
              "      <td>0</td>\n",
              "      <td>13.9</td>\n",
              "      <td>-0.3</td>\n",
              "      <td>0.79</td>\n",
              "      <td>Graduate</td>\n",
              "    </tr>\n",
              "  </tbody>\n",
              "</table>\n",
              "</div>\n",
              "    <div class=\"colab-df-buttons\">\n",
              "\n",
              "  <div class=\"colab-df-container\">\n",
              "    <button class=\"colab-df-convert\" onclick=\"convertToInteractive('df-115e9ddb-e2d0-44ae-a121-d979493b98e2')\"\n",
              "            title=\"Convert this dataframe to an interactive table.\"\n",
              "            style=\"display:none;\">\n",
              "\n",
              "  <svg xmlns=\"http://www.w3.org/2000/svg\" height=\"24px\" viewBox=\"0 -960 960 960\">\n",
              "    <path d=\"M120-120v-720h720v720H120Zm60-500h600v-160H180v160Zm220 220h160v-160H400v160Zm0 220h160v-160H400v160ZM180-400h160v-160H180v160Zm440 0h160v-160H620v160ZM180-180h160v-160H180v160Zm440 0h160v-160H620v160Z\"/>\n",
              "  </svg>\n",
              "    </button>\n",
              "\n",
              "  <style>\n",
              "    .colab-df-container {\n",
              "      display:flex;\n",
              "      gap: 12px;\n",
              "    }\n",
              "\n",
              "    .colab-df-convert {\n",
              "      background-color: #E8F0FE;\n",
              "      border: none;\n",
              "      border-radius: 50%;\n",
              "      cursor: pointer;\n",
              "      display: none;\n",
              "      fill: #1967D2;\n",
              "      height: 32px;\n",
              "      padding: 0 0 0 0;\n",
              "      width: 32px;\n",
              "    }\n",
              "\n",
              "    .colab-df-convert:hover {\n",
              "      background-color: #E2EBFA;\n",
              "      box-shadow: 0px 1px 2px rgba(60, 64, 67, 0.3), 0px 1px 3px 1px rgba(60, 64, 67, 0.15);\n",
              "      fill: #174EA6;\n",
              "    }\n",
              "\n",
              "    .colab-df-buttons div {\n",
              "      margin-bottom: 4px;\n",
              "    }\n",
              "\n",
              "    [theme=dark] .colab-df-convert {\n",
              "      background-color: #3B4455;\n",
              "      fill: #D2E3FC;\n",
              "    }\n",
              "\n",
              "    [theme=dark] .colab-df-convert:hover {\n",
              "      background-color: #434B5C;\n",
              "      box-shadow: 0px 1px 3px 1px rgba(0, 0, 0, 0.15);\n",
              "      filter: drop-shadow(0px 1px 2px rgba(0, 0, 0, 0.3));\n",
              "      fill: #FFFFFF;\n",
              "    }\n",
              "  </style>\n",
              "\n",
              "    <script>\n",
              "      const buttonEl =\n",
              "        document.querySelector('#df-115e9ddb-e2d0-44ae-a121-d979493b98e2 button.colab-df-convert');\n",
              "      buttonEl.style.display =\n",
              "        google.colab.kernel.accessAllowed ? 'block' : 'none';\n",
              "\n",
              "      async function convertToInteractive(key) {\n",
              "        const element = document.querySelector('#df-115e9ddb-e2d0-44ae-a121-d979493b98e2');\n",
              "        const dataTable =\n",
              "          await google.colab.kernel.invokeFunction('convertToInteractive',\n",
              "                                                    [key], {});\n",
              "        if (!dataTable) return;\n",
              "\n",
              "        const docLinkHtml = 'Like what you see? Visit the ' +\n",
              "          '<a target=\"_blank\" href=https://colab.research.google.com/notebooks/data_table.ipynb>data table notebook</a>'\n",
              "          + ' to learn more about interactive tables.';\n",
              "        element.innerHTML = '';\n",
              "        dataTable['output_type'] = 'display_data';\n",
              "        await google.colab.output.renderOutput(dataTable, element);\n",
              "        const docLink = document.createElement('div');\n",
              "        docLink.innerHTML = docLinkHtml;\n",
              "        element.appendChild(docLink);\n",
              "      }\n",
              "    </script>\n",
              "  </div>\n",
              "\n",
              "\n",
              "<div id=\"df-5567cc15-9c5c-498b-affb-e259ab5711de\">\n",
              "  <button class=\"colab-df-quickchart\" onclick=\"quickchart('df-5567cc15-9c5c-498b-affb-e259ab5711de')\"\n",
              "            title=\"Suggest charts\"\n",
              "            style=\"display:none;\">\n",
              "\n",
              "<svg xmlns=\"http://www.w3.org/2000/svg\" height=\"24px\"viewBox=\"0 0 24 24\"\n",
              "     width=\"24px\">\n",
              "    <g>\n",
              "        <path d=\"M19 3H5c-1.1 0-2 .9-2 2v14c0 1.1.9 2 2 2h14c1.1 0 2-.9 2-2V5c0-1.1-.9-2-2-2zM9 17H7v-7h2v7zm4 0h-2V7h2v10zm4 0h-2v-4h2v4z\"/>\n",
              "    </g>\n",
              "</svg>\n",
              "  </button>\n",
              "\n",
              "<style>\n",
              "  .colab-df-quickchart {\n",
              "      --bg-color: #E8F0FE;\n",
              "      --fill-color: #1967D2;\n",
              "      --hover-bg-color: #E2EBFA;\n",
              "      --hover-fill-color: #174EA6;\n",
              "      --disabled-fill-color: #AAA;\n",
              "      --disabled-bg-color: #DDD;\n",
              "  }\n",
              "\n",
              "  [theme=dark] .colab-df-quickchart {\n",
              "      --bg-color: #3B4455;\n",
              "      --fill-color: #D2E3FC;\n",
              "      --hover-bg-color: #434B5C;\n",
              "      --hover-fill-color: #FFFFFF;\n",
              "      --disabled-bg-color: #3B4455;\n",
              "      --disabled-fill-color: #666;\n",
              "  }\n",
              "\n",
              "  .colab-df-quickchart {\n",
              "    background-color: var(--bg-color);\n",
              "    border: none;\n",
              "    border-radius: 50%;\n",
              "    cursor: pointer;\n",
              "    display: none;\n",
              "    fill: var(--fill-color);\n",
              "    height: 32px;\n",
              "    padding: 0;\n",
              "    width: 32px;\n",
              "  }\n",
              "\n",
              "  .colab-df-quickchart:hover {\n",
              "    background-color: var(--hover-bg-color);\n",
              "    box-shadow: 0 1px 2px rgba(60, 64, 67, 0.3), 0 1px 3px 1px rgba(60, 64, 67, 0.15);\n",
              "    fill: var(--button-hover-fill-color);\n",
              "  }\n",
              "\n",
              "  .colab-df-quickchart-complete:disabled,\n",
              "  .colab-df-quickchart-complete:disabled:hover {\n",
              "    background-color: var(--disabled-bg-color);\n",
              "    fill: var(--disabled-fill-color);\n",
              "    box-shadow: none;\n",
              "  }\n",
              "\n",
              "  .colab-df-spinner {\n",
              "    border: 2px solid var(--fill-color);\n",
              "    border-color: transparent;\n",
              "    border-bottom-color: var(--fill-color);\n",
              "    animation:\n",
              "      spin 1s steps(1) infinite;\n",
              "  }\n",
              "\n",
              "  @keyframes spin {\n",
              "    0% {\n",
              "      border-color: transparent;\n",
              "      border-bottom-color: var(--fill-color);\n",
              "      border-left-color: var(--fill-color);\n",
              "    }\n",
              "    20% {\n",
              "      border-color: transparent;\n",
              "      border-left-color: var(--fill-color);\n",
              "      border-top-color: var(--fill-color);\n",
              "    }\n",
              "    30% {\n",
              "      border-color: transparent;\n",
              "      border-left-color: var(--fill-color);\n",
              "      border-top-color: var(--fill-color);\n",
              "      border-right-color: var(--fill-color);\n",
              "    }\n",
              "    40% {\n",
              "      border-color: transparent;\n",
              "      border-right-color: var(--fill-color);\n",
              "      border-top-color: var(--fill-color);\n",
              "    }\n",
              "    60% {\n",
              "      border-color: transparent;\n",
              "      border-right-color: var(--fill-color);\n",
              "    }\n",
              "    80% {\n",
              "      border-color: transparent;\n",
              "      border-right-color: var(--fill-color);\n",
              "      border-bottom-color: var(--fill-color);\n",
              "    }\n",
              "    90% {\n",
              "      border-color: transparent;\n",
              "      border-bottom-color: var(--fill-color);\n",
              "    }\n",
              "  }\n",
              "</style>\n",
              "\n",
              "  <script>\n",
              "    async function quickchart(key) {\n",
              "      const quickchartButtonEl =\n",
              "        document.querySelector('#' + key + ' button');\n",
              "      quickchartButtonEl.disabled = true;  // To prevent multiple clicks.\n",
              "      quickchartButtonEl.classList.add('colab-df-spinner');\n",
              "      try {\n",
              "        const charts = await google.colab.kernel.invokeFunction(\n",
              "            'suggestCharts', [key], {});\n",
              "      } catch (error) {\n",
              "        console.error('Error during call to suggestCharts:', error);\n",
              "      }\n",
              "      quickchartButtonEl.classList.remove('colab-df-spinner');\n",
              "      quickchartButtonEl.classList.add('colab-df-quickchart-complete');\n",
              "    }\n",
              "    (() => {\n",
              "      let quickchartButtonEl =\n",
              "        document.querySelector('#df-5567cc15-9c5c-498b-affb-e259ab5711de button');\n",
              "      quickchartButtonEl.style.display =\n",
              "        google.colab.kernel.accessAllowed ? 'block' : 'none';\n",
              "    })();\n",
              "  </script>\n",
              "</div>\n",
              "\n",
              "    </div>\n",
              "  </div>\n"
            ],
            "application/vnd.google.colaboratory.intrinsic+json": {
              "type": "dataframe",
              "variable_name": "data"
            }
          },
          "metadata": {},
          "execution_count": 3
        }
      ]
    },
    {
      "cell_type": "markdown",
      "source": [
        "Dataset terdiri dari 4424 baris dan 37 kolom. Di atas adalah isi dari 5 baris teratas."
      ],
      "metadata": {
        "id": "hsOA9SYnYB1G"
      }
    },
    {
      "cell_type": "markdown",
      "source": [
        "## **2.2. Deskripsi Data**"
      ],
      "metadata": {
        "id": "j-rNh-xQ-Iiz"
      }
    },
    {
      "cell_type": "code",
      "source": [
        "# Menampilkan informasi tentang dataset\n",
        "print(\"Informasi Dataset:\")\n",
        "print(data.info())"
      ],
      "metadata": {
        "colab": {
          "base_uri": "https://localhost:8080/"
        },
        "id": "bkwduKd1x9S4",
        "outputId": "fb0edaf7-ab6d-41ce-9015-ffc9c8705382"
      },
      "execution_count": 4,
      "outputs": [
        {
          "output_type": "stream",
          "name": "stdout",
          "text": [
            "Informasi Dataset:\n",
            "<class 'pandas.core.frame.DataFrame'>\n",
            "RangeIndex: 4424 entries, 0 to 4423\n",
            "Data columns (total 37 columns):\n",
            " #   Column                                        Non-Null Count  Dtype  \n",
            "---  ------                                        --------------  -----  \n",
            " 0   Marital_status                                4424 non-null   int64  \n",
            " 1   Application_mode                              4424 non-null   int64  \n",
            " 2   Application_order                             4424 non-null   int64  \n",
            " 3   Course                                        4424 non-null   int64  \n",
            " 4   Daytime_evening_attendance                    4424 non-null   int64  \n",
            " 5   Previous_qualification                        4424 non-null   int64  \n",
            " 6   Previous_qualification_grade                  4424 non-null   float64\n",
            " 7   Nacionality                                   4424 non-null   int64  \n",
            " 8   Mothers_qualification                         4424 non-null   int64  \n",
            " 9   Fathers_qualification                         4424 non-null   int64  \n",
            " 10  Mothers_occupation                            4424 non-null   int64  \n",
            " 11  Fathers_occupation                            4424 non-null   int64  \n",
            " 12  Admission_grade                               4424 non-null   float64\n",
            " 13  Displaced                                     4424 non-null   int64  \n",
            " 14  Educational_special_needs                     4424 non-null   int64  \n",
            " 15  Debtor                                        4424 non-null   int64  \n",
            " 16  Tuition_fees_up_to_date                       4424 non-null   int64  \n",
            " 17  Gender                                        4424 non-null   int64  \n",
            " 18  Scholarship_holder                            4424 non-null   int64  \n",
            " 19  Age_at_enrollment                             4424 non-null   int64  \n",
            " 20  International                                 4424 non-null   int64  \n",
            " 21  Curricular_units_1st_sem_credited             4424 non-null   int64  \n",
            " 22  Curricular_units_1st_sem_enrolled             4424 non-null   int64  \n",
            " 23  Curricular_units_1st_sem_evaluations          4424 non-null   int64  \n",
            " 24  Curricular_units_1st_sem_approved             4424 non-null   int64  \n",
            " 25  Curricular_units_1st_sem_grade                4424 non-null   float64\n",
            " 26  Curricular_units_1st_sem_without_evaluations  4424 non-null   int64  \n",
            " 27  Curricular_units_2nd_sem_credited             4424 non-null   int64  \n",
            " 28  Curricular_units_2nd_sem_enrolled             4424 non-null   int64  \n",
            " 29  Curricular_units_2nd_sem_evaluations          4424 non-null   int64  \n",
            " 30  Curricular_units_2nd_sem_approved             4424 non-null   int64  \n",
            " 31  Curricular_units_2nd_sem_grade                4424 non-null   float64\n",
            " 32  Curricular_units_2nd_sem_without_evaluations  4424 non-null   int64  \n",
            " 33  Unemployment_rate                             4424 non-null   float64\n",
            " 34  Inflation_rate                                4424 non-null   float64\n",
            " 35  GDP                                           4424 non-null   float64\n",
            " 36  Status                                        4424 non-null   object \n",
            "dtypes: float64(7), int64(29), object(1)\n",
            "memory usage: 1.2+ MB\n",
            "None\n"
          ]
        }
      ]
    },
    {
      "cell_type": "markdown",
      "source": [
        "Dataset ini berisi informasi mengenai karakteristik demografis, akademik, dan sosial ekonomi mahasiswa, termasuk status pernikahan, tingkat pendidikan orang tua, pekerjaan orang tua, program studi yang diambil, beasiswa, dan informasi terkait keuangan dan sosial. Target variabel adalah status mahasiswa pada akhir studi, yaitu apakah mereka drop out, masih terdaftar, atau lulus.\n",
        "\n",
        "Dataset ini dapat digunakan untuk menganalisis faktor-faktor yang memengaruhi keberhasilan mahasiswa dalam menyelesaikan studi mereka dan untuk membangun model prediksi untuk mengidentifikasi kemungkinan mahasiswa yang berisiko drop-out.\n",
        "\n",
        "Berikut adalah kolom beserta penjelasan dari dataset:\n",
        "\n",
        "1. **Marital Status** (Integer): Menunjukkan status pernikahan mahasiswa dengan kode numerik:\n",
        "   - 1: Single\n",
        "   - 2: Married\n",
        "   - 3: Widower\n",
        "   - 4: Divorced\n",
        "   - 5: Facto union\n",
        "   - 6: Legally separated\n",
        "\n",
        "2. **Application Mode** (Integer): Menunjukkan mode aplikasi yang digunakan oleh mahasiswa. Kode numerik seperti:\n",
        "   - 1: 1st phase - general contingent\n",
        "   - 2: Ordinance No. 612/93\n",
        "   - 5: 1st phase - special contingent (Azores Island)\n",
        "   - 15: International student (bachelor)\n",
        "   - 39: Over 23 years old\n",
        "\n",
        "3. **Application Order** (Integer): Urutan pilihan aplikasi mahasiswa (0 - pertama hingga 9 - terakhir).\n",
        "\n",
        "4. **Course** (Integer): Kode program studi yang dipilih mahasiswa. Kode-kode program studi seperti:\n",
        "   - 33: Biofuel Production Technologies\n",
        "   - 171: Animation and Multimedia Design\n",
        "   - 8014: Social Service (evening attendance)\n",
        "   - 9003: Agronomy\n",
        "\n",
        "5. **Daytime/Evening Attendance** (Integer): Waktu kuliah mahasiswa, dengan nilai:\n",
        "   - 1: Daytime\n",
        "   - 0: Evening\n",
        "\n",
        "6. **Previous Qualification** (Integer): Jenjang pendidikan sebelumnya yang dimiliki mahasiswa, dengan kode seperti:\n",
        "   - 1: Secondary education\n",
        "   - 2: Higher education - bachelor's degree\n",
        "   - 3: Higher education - degree\n",
        "   - 4: Higher education - master's\n",
        "\n",
        "7. **Previous Qualification (Grade)** (Continuous): Nilai atau grade dari kualifikasi sebelumnya, berada dalam rentang 0 hingga 200.\n",
        "\n",
        "8. **Nationality** (Integer): Kode kewarganegaraan mahasiswa, seperti:\n",
        "   - 1: Portuguese\n",
        "   - 2: German\n",
        "   - 41: Brazilian\n",
        "   - 62: Romanian\n",
        "\n",
        "9. **Mother's Qualification** (Integer): Tingkat pendidikan ibu mahasiswa, dengan kode seperti:\n",
        "   - 1: Secondary Education\n",
        "   - 2: Higher Education - Bachelor's Degree\n",
        "   - 3: Higher Education - Degree\n",
        "   - 4: Higher Education - Master's\n",
        "\n",
        "10. **Father's Qualification** (Integer): Tingkat pendidikan ayah mahasiswa, dengan kode yang sama seperti kualifikasi ibu.\n",
        "\n",
        "11. **Mother's Occupation** (Integer): Kode profesi ibu mahasiswa, dengan kode seperti:\n",
        "   - 0: Student\n",
        "   - 1: Representatives of Legislative and Executive Bodies, Directors\n",
        "   - 2: Specialists in Intellectual and Scientific Activities\n",
        "   - 122: Health professionals\n",
        "   - 123: Teachers\n",
        "\n",
        "12. **Father's Occupation** (Integer): Kode profesi ayah mahasiswa, dengan kode seperti:\n",
        "   - 0: Student\n",
        "   - 1: Representatives of Legislative and Executive Bodies, Directors\n",
        "   - 2: Specialists in Intellectual and Scientific Activities\n",
        "   - 122: Health professionals\n",
        "   - 123: Teachers\n",
        "\n",
        "13. **Admission Grade** (Continuous): Nilai penerimaan mahasiswa, berkisar antara 0 hingga 200.\n",
        "\n",
        "14. **Displaced** (Integer): Status perpindahan mahasiswa.\n",
        "   - 1: Yes\n",
        "   - 0: No\n",
        "\n",
        "15. **Educational Special Needs** (Integer): Menunjukkan apakah mahasiswa memiliki kebutuhan pendidikan khusus.\n",
        "   - 1: Yes\n",
        "   - 0: No\n",
        "\n",
        "16. **Debtor** (Integer): Menunjukkan apakah mahasiswa memiliki hutang.\n",
        "   - 1: Yes\n",
        "   - 0: No\n",
        "\n",
        "17. **Tuition Fees Up to Date** (Integer): Menunjukkan apakah pembayaran uang kuliah mahasiswa sudah diperbarui.\n",
        "   - 1: Yes\n",
        "   - 0: No\n",
        "\n",
        "18. **Gender** (Integer): Jenis kelamin mahasiswa.\n",
        "   - 1: Male\n",
        "   - 0: Female\n",
        "\n",
        "19. **Scholarship Holder** (Integer): Menunjukkan apakah mahasiswa menerima beasiswa.\n",
        "   - 1: Yes\n",
        "   - 0: No\n",
        "\n",
        "20. **Age at Enrollment** (Integer): Umur mahasiswa saat pendaftaran.\n",
        "\n",
        "21. **International** (Integer): Menunjukkan apakah mahasiswa adalah mahasiswa internasional.\n",
        "   - 1: Yes\n",
        "   - 0: No\n",
        "\n",
        "22. **Curricular Units 1st Sem (Credited)** (Integer): Jumlah mata kuliah yang telah dikreditkan di semester 1.\n",
        "\n",
        "23. **Curricular Units 1st Sem (Enrolled)** (Integer): Jumlah mata kuliah yang diambil di semester 1.\n",
        "\n",
        "24. **Curricular Units 1st Sem (Evaluations)** (Integer): Jumlah evaluasi yang diambil di semester 1.\n",
        "\n",
        "25. **Curricular Units 1st Sem (Approved)** (Integer): Jumlah mata kuliah yang disetujui di semester 1.\n",
        "\n",
        "26. **Curricular Units 1st Sem (Grade)** (Integer): Rata-rata nilai mata kuliah di semester 1 (antara 0 hingga 20).\n",
        "\n",
        "27. **Curricular Units 1st Sem (Without Evaluations)** (Integer): Jumlah mata kuliah yang tidak dievaluasi di semester 1.\n",
        "\n",
        "28. **Curricular Units 2nd Sem (Credited)** (Integer): Jumlah mata kuliah yang telah dikreditkan di semester 2.\n",
        "\n",
        "29. **Curricular Units 2nd Sem (Enrolled)** (Integer): Jumlah mata kuliah yang diambil di semester 2.\n",
        "\n",
        "30. **Curricular Units 2nd Sem (Evaluations)** (Integer): Jumlah evaluasi yang diambil di semester 2.\n",
        "\n",
        "31. **Curricular Units 2nd Sem (Approved)** (Integer): Jumlah mata kuliah yang disetujui di semester 2.\n",
        "\n",
        "32. **Curricular Units 2nd Sem (Grade)** (Integer): Rata-rata nilai mata kuliah di semester 2 (antara 0 hingga 20).\n",
        "\n",
        "33. **Curricular Units 2nd Sem (Without Evaluations)** (Integer): Jumlah mata kuliah yang tidak dievaluasi di semester 2.\n",
        "\n",
        "34. **Unemployment Rate** (Continuous): Tingkat pengangguran (%).\n",
        "\n",
        "35. **Inflation Rate** (Continuous): Tingkat inflasi (%).\n",
        "\n",
        "36. **GDP** (Continuous): Produk Domestik Bruto (GDP).\n",
        "\n",
        "37. **Target** (Categorical): Status mahasiswa setelah menyelesaikan masa studi, yang termasuk:\n",
        "   - Dropout\n",
        "   - Enrolled\n",
        "   - Graduate"
      ],
      "metadata": {
        "id": "XBxI0jcCpYwc"
      }
    },
    {
      "cell_type": "markdown",
      "source": [
        "Terdapat kolom yang seharusnya kategorik, tapi malah terdeteksi numerik, sehingga perlu dilakukan perubahan tipe data."
      ],
      "metadata": {
        "id": "1B1NlO5FkT79"
      }
    },
    {
      "cell_type": "code",
      "source": [
        "categorical_columns = [\n",
        "    \"Marital_status\", \"Application_mode\", \"Application_order\", \"Course\",\n",
        "    \"Previous_qualification\", \"Nacionality\"\n",
        "]\n",
        "\n",
        "# Mengubah tipe data yang seharusnya kategorik\n",
        "for col in categorical_columns:\n",
        "    if col in data.columns:\n",
        "        data[col] = data[col].astype('object')\n",
        "\n",
        "# Deskripsi statistik untuk kolom numerik\n",
        "print(\"Deskripsi Data Numerik:\")\n",
        "data.describe(include=['number'])"
      ],
      "metadata": {
        "colab": {
          "base_uri": "https://localhost:8080/",
          "height": 337
        },
        "id": "0dzNvlt6yiq8",
        "outputId": "b87bb185-6bf9-4a8f-94e2-0fffd2f162fc"
      },
      "execution_count": 5,
      "outputs": [
        {
          "output_type": "stream",
          "name": "stdout",
          "text": [
            "Deskripsi Data Numerik:\n"
          ]
        },
        {
          "output_type": "execute_result",
          "data": {
            "text/plain": [
              "       Daytime_evening_attendance  Previous_qualification_grade  \\\n",
              "count                 4424.000000                   4424.000000   \n",
              "mean                     0.890823                    132.613314   \n",
              "std                      0.311897                     13.188332   \n",
              "min                      0.000000                     95.000000   \n",
              "25%                      1.000000                    125.000000   \n",
              "50%                      1.000000                    133.100000   \n",
              "75%                      1.000000                    140.000000   \n",
              "max                      1.000000                    190.000000   \n",
              "\n",
              "       Mothers_qualification  Fathers_qualification  Mothers_occupation  \\\n",
              "count            4424.000000            4424.000000         4424.000000   \n",
              "mean               19.561935              22.275316           10.960895   \n",
              "std                15.603186              15.343108           26.418253   \n",
              "min                 1.000000               1.000000            0.000000   \n",
              "25%                 2.000000               3.000000            4.000000   \n",
              "50%                19.000000              19.000000            5.000000   \n",
              "75%                37.000000              37.000000            9.000000   \n",
              "max                44.000000              44.000000          194.000000   \n",
              "\n",
              "       Fathers_occupation  Admission_grade    Displaced  \\\n",
              "count         4424.000000      4424.000000  4424.000000   \n",
              "mean            11.032324       126.978119     0.548373   \n",
              "std             25.263040        14.482001     0.497711   \n",
              "min              0.000000        95.000000     0.000000   \n",
              "25%              4.000000       117.900000     0.000000   \n",
              "50%              7.000000       126.100000     1.000000   \n",
              "75%              9.000000       134.800000     1.000000   \n",
              "max            195.000000       190.000000     1.000000   \n",
              "\n",
              "       Educational_special_needs       Debtor  Tuition_fees_up_to_date  \\\n",
              "count                4424.000000  4424.000000              4424.000000   \n",
              "mean                    0.011528     0.113698                 0.880651   \n",
              "std                     0.106760     0.317480                 0.324235   \n",
              "min                     0.000000     0.000000                 0.000000   \n",
              "25%                     0.000000     0.000000                 1.000000   \n",
              "50%                     0.000000     0.000000                 1.000000   \n",
              "75%                     0.000000     0.000000                 1.000000   \n",
              "max                     1.000000     1.000000                 1.000000   \n",
              "\n",
              "            Gender  Scholarship_holder  Age_at_enrollment  International  \\\n",
              "count  4424.000000         4424.000000        4424.000000    4424.000000   \n",
              "mean      0.351718            0.248418          23.265145       0.024864   \n",
              "std       0.477560            0.432144           7.587816       0.155729   \n",
              "min       0.000000            0.000000          17.000000       0.000000   \n",
              "25%       0.000000            0.000000          19.000000       0.000000   \n",
              "50%       0.000000            0.000000          20.000000       0.000000   \n",
              "75%       1.000000            0.000000          25.000000       0.000000   \n",
              "max       1.000000            1.000000          70.000000       1.000000   \n",
              "\n",
              "       Curricular_units_1st_sem_credited  Curricular_units_1st_sem_enrolled  \\\n",
              "count                        4424.000000                        4424.000000   \n",
              "mean                            0.709991                           6.270570   \n",
              "std                             2.360507                           2.480178   \n",
              "min                             0.000000                           0.000000   \n",
              "25%                             0.000000                           5.000000   \n",
              "50%                             0.000000                           6.000000   \n",
              "75%                             0.000000                           7.000000   \n",
              "max                            20.000000                          26.000000   \n",
              "\n",
              "       Curricular_units_1st_sem_evaluations  \\\n",
              "count                           4424.000000   \n",
              "mean                               8.299051   \n",
              "std                                4.179106   \n",
              "min                                0.000000   \n",
              "25%                                6.000000   \n",
              "50%                                8.000000   \n",
              "75%                               10.000000   \n",
              "max                               45.000000   \n",
              "\n",
              "       Curricular_units_1st_sem_approved  Curricular_units_1st_sem_grade  \\\n",
              "count                        4424.000000                     4424.000000   \n",
              "mean                            4.706600                       10.640822   \n",
              "std                             3.094238                        4.843663   \n",
              "min                             0.000000                        0.000000   \n",
              "25%                             3.000000                       11.000000   \n",
              "50%                             5.000000                       12.285714   \n",
              "75%                             6.000000                       13.400000   \n",
              "max                            26.000000                       18.875000   \n",
              "\n",
              "       Curricular_units_1st_sem_without_evaluations  \\\n",
              "count                                   4424.000000   \n",
              "mean                                       0.137658   \n",
              "std                                        0.690880   \n",
              "min                                        0.000000   \n",
              "25%                                        0.000000   \n",
              "50%                                        0.000000   \n",
              "75%                                        0.000000   \n",
              "max                                       12.000000   \n",
              "\n",
              "       Curricular_units_2nd_sem_credited  Curricular_units_2nd_sem_enrolled  \\\n",
              "count                        4424.000000                        4424.000000   \n",
              "mean                            0.541817                           6.232143   \n",
              "std                             1.918546                           2.195951   \n",
              "min                             0.000000                           0.000000   \n",
              "25%                             0.000000                           5.000000   \n",
              "50%                             0.000000                           6.000000   \n",
              "75%                             0.000000                           7.000000   \n",
              "max                            19.000000                          23.000000   \n",
              "\n",
              "       Curricular_units_2nd_sem_evaluations  \\\n",
              "count                           4424.000000   \n",
              "mean                               8.063291   \n",
              "std                                3.947951   \n",
              "min                                0.000000   \n",
              "25%                                6.000000   \n",
              "50%                                8.000000   \n",
              "75%                               10.000000   \n",
              "max                               33.000000   \n",
              "\n",
              "       Curricular_units_2nd_sem_approved  Curricular_units_2nd_sem_grade  \\\n",
              "count                        4424.000000                     4424.000000   \n",
              "mean                            4.435805                       10.230206   \n",
              "std                             3.014764                        5.210808   \n",
              "min                             0.000000                        0.000000   \n",
              "25%                             2.000000                       10.750000   \n",
              "50%                             5.000000                       12.200000   \n",
              "75%                             6.000000                       13.333333   \n",
              "max                            20.000000                       18.571429   \n",
              "\n",
              "       Curricular_units_2nd_sem_without_evaluations  Unemployment_rate  \\\n",
              "count                                   4424.000000        4424.000000   \n",
              "mean                                       0.150316          11.566139   \n",
              "std                                        0.753774           2.663850   \n",
              "min                                        0.000000           7.600000   \n",
              "25%                                        0.000000           9.400000   \n",
              "50%                                        0.000000          11.100000   \n",
              "75%                                        0.000000          13.900000   \n",
              "max                                       12.000000          16.200000   \n",
              "\n",
              "       Inflation_rate          GDP  \n",
              "count     4424.000000  4424.000000  \n",
              "mean         1.228029     0.001969  \n",
              "std          1.382711     2.269935  \n",
              "min         -0.800000    -4.060000  \n",
              "25%          0.300000    -1.700000  \n",
              "50%          1.400000     0.320000  \n",
              "75%          2.600000     1.790000  \n",
              "max          3.700000     3.510000  "
            ],
            "text/html": [
              "\n",
              "  <div id=\"df-c5a9c465-0c6e-4e74-9dd9-c6d9b50eea8e\" class=\"colab-df-container\">\n",
              "    <div>\n",
              "<style scoped>\n",
              "    .dataframe tbody tr th:only-of-type {\n",
              "        vertical-align: middle;\n",
              "    }\n",
              "\n",
              "    .dataframe tbody tr th {\n",
              "        vertical-align: top;\n",
              "    }\n",
              "\n",
              "    .dataframe thead th {\n",
              "        text-align: right;\n",
              "    }\n",
              "</style>\n",
              "<table border=\"1\" class=\"dataframe\">\n",
              "  <thead>\n",
              "    <tr style=\"text-align: right;\">\n",
              "      <th></th>\n",
              "      <th>Daytime_evening_attendance</th>\n",
              "      <th>Previous_qualification_grade</th>\n",
              "      <th>Mothers_qualification</th>\n",
              "      <th>Fathers_qualification</th>\n",
              "      <th>Mothers_occupation</th>\n",
              "      <th>Fathers_occupation</th>\n",
              "      <th>Admission_grade</th>\n",
              "      <th>Displaced</th>\n",
              "      <th>Educational_special_needs</th>\n",
              "      <th>Debtor</th>\n",
              "      <th>Tuition_fees_up_to_date</th>\n",
              "      <th>Gender</th>\n",
              "      <th>Scholarship_holder</th>\n",
              "      <th>Age_at_enrollment</th>\n",
              "      <th>International</th>\n",
              "      <th>Curricular_units_1st_sem_credited</th>\n",
              "      <th>Curricular_units_1st_sem_enrolled</th>\n",
              "      <th>Curricular_units_1st_sem_evaluations</th>\n",
              "      <th>Curricular_units_1st_sem_approved</th>\n",
              "      <th>Curricular_units_1st_sem_grade</th>\n",
              "      <th>Curricular_units_1st_sem_without_evaluations</th>\n",
              "      <th>Curricular_units_2nd_sem_credited</th>\n",
              "      <th>Curricular_units_2nd_sem_enrolled</th>\n",
              "      <th>Curricular_units_2nd_sem_evaluations</th>\n",
              "      <th>Curricular_units_2nd_sem_approved</th>\n",
              "      <th>Curricular_units_2nd_sem_grade</th>\n",
              "      <th>Curricular_units_2nd_sem_without_evaluations</th>\n",
              "      <th>Unemployment_rate</th>\n",
              "      <th>Inflation_rate</th>\n",
              "      <th>GDP</th>\n",
              "    </tr>\n",
              "  </thead>\n",
              "  <tbody>\n",
              "    <tr>\n",
              "      <th>count</th>\n",
              "      <td>4424.000000</td>\n",
              "      <td>4424.000000</td>\n",
              "      <td>4424.000000</td>\n",
              "      <td>4424.000000</td>\n",
              "      <td>4424.000000</td>\n",
              "      <td>4424.000000</td>\n",
              "      <td>4424.000000</td>\n",
              "      <td>4424.000000</td>\n",
              "      <td>4424.000000</td>\n",
              "      <td>4424.000000</td>\n",
              "      <td>4424.000000</td>\n",
              "      <td>4424.000000</td>\n",
              "      <td>4424.000000</td>\n",
              "      <td>4424.000000</td>\n",
              "      <td>4424.000000</td>\n",
              "      <td>4424.000000</td>\n",
              "      <td>4424.000000</td>\n",
              "      <td>4424.000000</td>\n",
              "      <td>4424.000000</td>\n",
              "      <td>4424.000000</td>\n",
              "      <td>4424.000000</td>\n",
              "      <td>4424.000000</td>\n",
              "      <td>4424.000000</td>\n",
              "      <td>4424.000000</td>\n",
              "      <td>4424.000000</td>\n",
              "      <td>4424.000000</td>\n",
              "      <td>4424.000000</td>\n",
              "      <td>4424.000000</td>\n",
              "      <td>4424.000000</td>\n",
              "      <td>4424.000000</td>\n",
              "    </tr>\n",
              "    <tr>\n",
              "      <th>mean</th>\n",
              "      <td>0.890823</td>\n",
              "      <td>132.613314</td>\n",
              "      <td>19.561935</td>\n",
              "      <td>22.275316</td>\n",
              "      <td>10.960895</td>\n",
              "      <td>11.032324</td>\n",
              "      <td>126.978119</td>\n",
              "      <td>0.548373</td>\n",
              "      <td>0.011528</td>\n",
              "      <td>0.113698</td>\n",
              "      <td>0.880651</td>\n",
              "      <td>0.351718</td>\n",
              "      <td>0.248418</td>\n",
              "      <td>23.265145</td>\n",
              "      <td>0.024864</td>\n",
              "      <td>0.709991</td>\n",
              "      <td>6.270570</td>\n",
              "      <td>8.299051</td>\n",
              "      <td>4.706600</td>\n",
              "      <td>10.640822</td>\n",
              "      <td>0.137658</td>\n",
              "      <td>0.541817</td>\n",
              "      <td>6.232143</td>\n",
              "      <td>8.063291</td>\n",
              "      <td>4.435805</td>\n",
              "      <td>10.230206</td>\n",
              "      <td>0.150316</td>\n",
              "      <td>11.566139</td>\n",
              "      <td>1.228029</td>\n",
              "      <td>0.001969</td>\n",
              "    </tr>\n",
              "    <tr>\n",
              "      <th>std</th>\n",
              "      <td>0.311897</td>\n",
              "      <td>13.188332</td>\n",
              "      <td>15.603186</td>\n",
              "      <td>15.343108</td>\n",
              "      <td>26.418253</td>\n",
              "      <td>25.263040</td>\n",
              "      <td>14.482001</td>\n",
              "      <td>0.497711</td>\n",
              "      <td>0.106760</td>\n",
              "      <td>0.317480</td>\n",
              "      <td>0.324235</td>\n",
              "      <td>0.477560</td>\n",
              "      <td>0.432144</td>\n",
              "      <td>7.587816</td>\n",
              "      <td>0.155729</td>\n",
              "      <td>2.360507</td>\n",
              "      <td>2.480178</td>\n",
              "      <td>4.179106</td>\n",
              "      <td>3.094238</td>\n",
              "      <td>4.843663</td>\n",
              "      <td>0.690880</td>\n",
              "      <td>1.918546</td>\n",
              "      <td>2.195951</td>\n",
              "      <td>3.947951</td>\n",
              "      <td>3.014764</td>\n",
              "      <td>5.210808</td>\n",
              "      <td>0.753774</td>\n",
              "      <td>2.663850</td>\n",
              "      <td>1.382711</td>\n",
              "      <td>2.269935</td>\n",
              "    </tr>\n",
              "    <tr>\n",
              "      <th>min</th>\n",
              "      <td>0.000000</td>\n",
              "      <td>95.000000</td>\n",
              "      <td>1.000000</td>\n",
              "      <td>1.000000</td>\n",
              "      <td>0.000000</td>\n",
              "      <td>0.000000</td>\n",
              "      <td>95.000000</td>\n",
              "      <td>0.000000</td>\n",
              "      <td>0.000000</td>\n",
              "      <td>0.000000</td>\n",
              "      <td>0.000000</td>\n",
              "      <td>0.000000</td>\n",
              "      <td>0.000000</td>\n",
              "      <td>17.000000</td>\n",
              "      <td>0.000000</td>\n",
              "      <td>0.000000</td>\n",
              "      <td>0.000000</td>\n",
              "      <td>0.000000</td>\n",
              "      <td>0.000000</td>\n",
              "      <td>0.000000</td>\n",
              "      <td>0.000000</td>\n",
              "      <td>0.000000</td>\n",
              "      <td>0.000000</td>\n",
              "      <td>0.000000</td>\n",
              "      <td>0.000000</td>\n",
              "      <td>0.000000</td>\n",
              "      <td>0.000000</td>\n",
              "      <td>7.600000</td>\n",
              "      <td>-0.800000</td>\n",
              "      <td>-4.060000</td>\n",
              "    </tr>\n",
              "    <tr>\n",
              "      <th>25%</th>\n",
              "      <td>1.000000</td>\n",
              "      <td>125.000000</td>\n",
              "      <td>2.000000</td>\n",
              "      <td>3.000000</td>\n",
              "      <td>4.000000</td>\n",
              "      <td>4.000000</td>\n",
              "      <td>117.900000</td>\n",
              "      <td>0.000000</td>\n",
              "      <td>0.000000</td>\n",
              "      <td>0.000000</td>\n",
              "      <td>1.000000</td>\n",
              "      <td>0.000000</td>\n",
              "      <td>0.000000</td>\n",
              "      <td>19.000000</td>\n",
              "      <td>0.000000</td>\n",
              "      <td>0.000000</td>\n",
              "      <td>5.000000</td>\n",
              "      <td>6.000000</td>\n",
              "      <td>3.000000</td>\n",
              "      <td>11.000000</td>\n",
              "      <td>0.000000</td>\n",
              "      <td>0.000000</td>\n",
              "      <td>5.000000</td>\n",
              "      <td>6.000000</td>\n",
              "      <td>2.000000</td>\n",
              "      <td>10.750000</td>\n",
              "      <td>0.000000</td>\n",
              "      <td>9.400000</td>\n",
              "      <td>0.300000</td>\n",
              "      <td>-1.700000</td>\n",
              "    </tr>\n",
              "    <tr>\n",
              "      <th>50%</th>\n",
              "      <td>1.000000</td>\n",
              "      <td>133.100000</td>\n",
              "      <td>19.000000</td>\n",
              "      <td>19.000000</td>\n",
              "      <td>5.000000</td>\n",
              "      <td>7.000000</td>\n",
              "      <td>126.100000</td>\n",
              "      <td>1.000000</td>\n",
              "      <td>0.000000</td>\n",
              "      <td>0.000000</td>\n",
              "      <td>1.000000</td>\n",
              "      <td>0.000000</td>\n",
              "      <td>0.000000</td>\n",
              "      <td>20.000000</td>\n",
              "      <td>0.000000</td>\n",
              "      <td>0.000000</td>\n",
              "      <td>6.000000</td>\n",
              "      <td>8.000000</td>\n",
              "      <td>5.000000</td>\n",
              "      <td>12.285714</td>\n",
              "      <td>0.000000</td>\n",
              "      <td>0.000000</td>\n",
              "      <td>6.000000</td>\n",
              "      <td>8.000000</td>\n",
              "      <td>5.000000</td>\n",
              "      <td>12.200000</td>\n",
              "      <td>0.000000</td>\n",
              "      <td>11.100000</td>\n",
              "      <td>1.400000</td>\n",
              "      <td>0.320000</td>\n",
              "    </tr>\n",
              "    <tr>\n",
              "      <th>75%</th>\n",
              "      <td>1.000000</td>\n",
              "      <td>140.000000</td>\n",
              "      <td>37.000000</td>\n",
              "      <td>37.000000</td>\n",
              "      <td>9.000000</td>\n",
              "      <td>9.000000</td>\n",
              "      <td>134.800000</td>\n",
              "      <td>1.000000</td>\n",
              "      <td>0.000000</td>\n",
              "      <td>0.000000</td>\n",
              "      <td>1.000000</td>\n",
              "      <td>1.000000</td>\n",
              "      <td>0.000000</td>\n",
              "      <td>25.000000</td>\n",
              "      <td>0.000000</td>\n",
              "      <td>0.000000</td>\n",
              "      <td>7.000000</td>\n",
              "      <td>10.000000</td>\n",
              "      <td>6.000000</td>\n",
              "      <td>13.400000</td>\n",
              "      <td>0.000000</td>\n",
              "      <td>0.000000</td>\n",
              "      <td>7.000000</td>\n",
              "      <td>10.000000</td>\n",
              "      <td>6.000000</td>\n",
              "      <td>13.333333</td>\n",
              "      <td>0.000000</td>\n",
              "      <td>13.900000</td>\n",
              "      <td>2.600000</td>\n",
              "      <td>1.790000</td>\n",
              "    </tr>\n",
              "    <tr>\n",
              "      <th>max</th>\n",
              "      <td>1.000000</td>\n",
              "      <td>190.000000</td>\n",
              "      <td>44.000000</td>\n",
              "      <td>44.000000</td>\n",
              "      <td>194.000000</td>\n",
              "      <td>195.000000</td>\n",
              "      <td>190.000000</td>\n",
              "      <td>1.000000</td>\n",
              "      <td>1.000000</td>\n",
              "      <td>1.000000</td>\n",
              "      <td>1.000000</td>\n",
              "      <td>1.000000</td>\n",
              "      <td>1.000000</td>\n",
              "      <td>70.000000</td>\n",
              "      <td>1.000000</td>\n",
              "      <td>20.000000</td>\n",
              "      <td>26.000000</td>\n",
              "      <td>45.000000</td>\n",
              "      <td>26.000000</td>\n",
              "      <td>18.875000</td>\n",
              "      <td>12.000000</td>\n",
              "      <td>19.000000</td>\n",
              "      <td>23.000000</td>\n",
              "      <td>33.000000</td>\n",
              "      <td>20.000000</td>\n",
              "      <td>18.571429</td>\n",
              "      <td>12.000000</td>\n",
              "      <td>16.200000</td>\n",
              "      <td>3.700000</td>\n",
              "      <td>3.510000</td>\n",
              "    </tr>\n",
              "  </tbody>\n",
              "</table>\n",
              "</div>\n",
              "    <div class=\"colab-df-buttons\">\n",
              "\n",
              "  <div class=\"colab-df-container\">\n",
              "    <button class=\"colab-df-convert\" onclick=\"convertToInteractive('df-c5a9c465-0c6e-4e74-9dd9-c6d9b50eea8e')\"\n",
              "            title=\"Convert this dataframe to an interactive table.\"\n",
              "            style=\"display:none;\">\n",
              "\n",
              "  <svg xmlns=\"http://www.w3.org/2000/svg\" height=\"24px\" viewBox=\"0 -960 960 960\">\n",
              "    <path d=\"M120-120v-720h720v720H120Zm60-500h600v-160H180v160Zm220 220h160v-160H400v160Zm0 220h160v-160H400v160ZM180-400h160v-160H180v160Zm440 0h160v-160H620v160ZM180-180h160v-160H180v160Zm440 0h160v-160H620v160Z\"/>\n",
              "  </svg>\n",
              "    </button>\n",
              "\n",
              "  <style>\n",
              "    .colab-df-container {\n",
              "      display:flex;\n",
              "      gap: 12px;\n",
              "    }\n",
              "\n",
              "    .colab-df-convert {\n",
              "      background-color: #E8F0FE;\n",
              "      border: none;\n",
              "      border-radius: 50%;\n",
              "      cursor: pointer;\n",
              "      display: none;\n",
              "      fill: #1967D2;\n",
              "      height: 32px;\n",
              "      padding: 0 0 0 0;\n",
              "      width: 32px;\n",
              "    }\n",
              "\n",
              "    .colab-df-convert:hover {\n",
              "      background-color: #E2EBFA;\n",
              "      box-shadow: 0px 1px 2px rgba(60, 64, 67, 0.3), 0px 1px 3px 1px rgba(60, 64, 67, 0.15);\n",
              "      fill: #174EA6;\n",
              "    }\n",
              "\n",
              "    .colab-df-buttons div {\n",
              "      margin-bottom: 4px;\n",
              "    }\n",
              "\n",
              "    [theme=dark] .colab-df-convert {\n",
              "      background-color: #3B4455;\n",
              "      fill: #D2E3FC;\n",
              "    }\n",
              "\n",
              "    [theme=dark] .colab-df-convert:hover {\n",
              "      background-color: #434B5C;\n",
              "      box-shadow: 0px 1px 3px 1px rgba(0, 0, 0, 0.15);\n",
              "      filter: drop-shadow(0px 1px 2px rgba(0, 0, 0, 0.3));\n",
              "      fill: #FFFFFF;\n",
              "    }\n",
              "  </style>\n",
              "\n",
              "    <script>\n",
              "      const buttonEl =\n",
              "        document.querySelector('#df-c5a9c465-0c6e-4e74-9dd9-c6d9b50eea8e button.colab-df-convert');\n",
              "      buttonEl.style.display =\n",
              "        google.colab.kernel.accessAllowed ? 'block' : 'none';\n",
              "\n",
              "      async function convertToInteractive(key) {\n",
              "        const element = document.querySelector('#df-c5a9c465-0c6e-4e74-9dd9-c6d9b50eea8e');\n",
              "        const dataTable =\n",
              "          await google.colab.kernel.invokeFunction('convertToInteractive',\n",
              "                                                    [key], {});\n",
              "        if (!dataTable) return;\n",
              "\n",
              "        const docLinkHtml = 'Like what you see? Visit the ' +\n",
              "          '<a target=\"_blank\" href=https://colab.research.google.com/notebooks/data_table.ipynb>data table notebook</a>'\n",
              "          + ' to learn more about interactive tables.';\n",
              "        element.innerHTML = '';\n",
              "        dataTable['output_type'] = 'display_data';\n",
              "        await google.colab.output.renderOutput(dataTable, element);\n",
              "        const docLink = document.createElement('div');\n",
              "        docLink.innerHTML = docLinkHtml;\n",
              "        element.appendChild(docLink);\n",
              "      }\n",
              "    </script>\n",
              "  </div>\n",
              "\n",
              "\n",
              "<div id=\"df-e05975b8-12bf-4240-8772-d81e2129bb96\">\n",
              "  <button class=\"colab-df-quickchart\" onclick=\"quickchart('df-e05975b8-12bf-4240-8772-d81e2129bb96')\"\n",
              "            title=\"Suggest charts\"\n",
              "            style=\"display:none;\">\n",
              "\n",
              "<svg xmlns=\"http://www.w3.org/2000/svg\" height=\"24px\"viewBox=\"0 0 24 24\"\n",
              "     width=\"24px\">\n",
              "    <g>\n",
              "        <path d=\"M19 3H5c-1.1 0-2 .9-2 2v14c0 1.1.9 2 2 2h14c1.1 0 2-.9 2-2V5c0-1.1-.9-2-2-2zM9 17H7v-7h2v7zm4 0h-2V7h2v10zm4 0h-2v-4h2v4z\"/>\n",
              "    </g>\n",
              "</svg>\n",
              "  </button>\n",
              "\n",
              "<style>\n",
              "  .colab-df-quickchart {\n",
              "      --bg-color: #E8F0FE;\n",
              "      --fill-color: #1967D2;\n",
              "      --hover-bg-color: #E2EBFA;\n",
              "      --hover-fill-color: #174EA6;\n",
              "      --disabled-fill-color: #AAA;\n",
              "      --disabled-bg-color: #DDD;\n",
              "  }\n",
              "\n",
              "  [theme=dark] .colab-df-quickchart {\n",
              "      --bg-color: #3B4455;\n",
              "      --fill-color: #D2E3FC;\n",
              "      --hover-bg-color: #434B5C;\n",
              "      --hover-fill-color: #FFFFFF;\n",
              "      --disabled-bg-color: #3B4455;\n",
              "      --disabled-fill-color: #666;\n",
              "  }\n",
              "\n",
              "  .colab-df-quickchart {\n",
              "    background-color: var(--bg-color);\n",
              "    border: none;\n",
              "    border-radius: 50%;\n",
              "    cursor: pointer;\n",
              "    display: none;\n",
              "    fill: var(--fill-color);\n",
              "    height: 32px;\n",
              "    padding: 0;\n",
              "    width: 32px;\n",
              "  }\n",
              "\n",
              "  .colab-df-quickchart:hover {\n",
              "    background-color: var(--hover-bg-color);\n",
              "    box-shadow: 0 1px 2px rgba(60, 64, 67, 0.3), 0 1px 3px 1px rgba(60, 64, 67, 0.15);\n",
              "    fill: var(--button-hover-fill-color);\n",
              "  }\n",
              "\n",
              "  .colab-df-quickchart-complete:disabled,\n",
              "  .colab-df-quickchart-complete:disabled:hover {\n",
              "    background-color: var(--disabled-bg-color);\n",
              "    fill: var(--disabled-fill-color);\n",
              "    box-shadow: none;\n",
              "  }\n",
              "\n",
              "  .colab-df-spinner {\n",
              "    border: 2px solid var(--fill-color);\n",
              "    border-color: transparent;\n",
              "    border-bottom-color: var(--fill-color);\n",
              "    animation:\n",
              "      spin 1s steps(1) infinite;\n",
              "  }\n",
              "\n",
              "  @keyframes spin {\n",
              "    0% {\n",
              "      border-color: transparent;\n",
              "      border-bottom-color: var(--fill-color);\n",
              "      border-left-color: var(--fill-color);\n",
              "    }\n",
              "    20% {\n",
              "      border-color: transparent;\n",
              "      border-left-color: var(--fill-color);\n",
              "      border-top-color: var(--fill-color);\n",
              "    }\n",
              "    30% {\n",
              "      border-color: transparent;\n",
              "      border-left-color: var(--fill-color);\n",
              "      border-top-color: var(--fill-color);\n",
              "      border-right-color: var(--fill-color);\n",
              "    }\n",
              "    40% {\n",
              "      border-color: transparent;\n",
              "      border-right-color: var(--fill-color);\n",
              "      border-top-color: var(--fill-color);\n",
              "    }\n",
              "    60% {\n",
              "      border-color: transparent;\n",
              "      border-right-color: var(--fill-color);\n",
              "    }\n",
              "    80% {\n",
              "      border-color: transparent;\n",
              "      border-right-color: var(--fill-color);\n",
              "      border-bottom-color: var(--fill-color);\n",
              "    }\n",
              "    90% {\n",
              "      border-color: transparent;\n",
              "      border-bottom-color: var(--fill-color);\n",
              "    }\n",
              "  }\n",
              "</style>\n",
              "\n",
              "  <script>\n",
              "    async function quickchart(key) {\n",
              "      const quickchartButtonEl =\n",
              "        document.querySelector('#' + key + ' button');\n",
              "      quickchartButtonEl.disabled = true;  // To prevent multiple clicks.\n",
              "      quickchartButtonEl.classList.add('colab-df-spinner');\n",
              "      try {\n",
              "        const charts = await google.colab.kernel.invokeFunction(\n",
              "            'suggestCharts', [key], {});\n",
              "      } catch (error) {\n",
              "        console.error('Error during call to suggestCharts:', error);\n",
              "      }\n",
              "      quickchartButtonEl.classList.remove('colab-df-spinner');\n",
              "      quickchartButtonEl.classList.add('colab-df-quickchart-complete');\n",
              "    }\n",
              "    (() => {\n",
              "      let quickchartButtonEl =\n",
              "        document.querySelector('#df-e05975b8-12bf-4240-8772-d81e2129bb96 button');\n",
              "      quickchartButtonEl.style.display =\n",
              "        google.colab.kernel.accessAllowed ? 'block' : 'none';\n",
              "    })();\n",
              "  </script>\n",
              "</div>\n",
              "\n",
              "    </div>\n",
              "  </div>\n"
            ],
            "application/vnd.google.colaboratory.intrinsic+json": {
              "type": "dataframe"
            }
          },
          "metadata": {},
          "execution_count": 5
        }
      ]
    },
    {
      "cell_type": "markdown",
      "source": [
        "Data di atas menunjukkan bahwa sebagian besar mahasiswa berusia sekitar 23 tahun, dengan mayoritas memilih sesi malam untuk kuliah. Kualifikasi orang tua sebagian besar beragam, dengan rata-rata pendidikan ibu dan ayah sekitar 19 dan 22 tahun. Sekitar 25% mahasiswa menerima beasiswa, dan sebagian besar membayar biaya kuliah tepat waktu. Dalam hal akademik, mahasiswa rata-rata memperoleh sekitar 6 kredit per semester, meskipun terdapat variasi dalam jumlah evaluasi dan kelulusan. Indikator ekonomi seperti tingkat pengangguran, inflasi, dan GDP menunjukkan fluktuasi yang signifikan, mencerminkan kondisi ekonomi yang berubah-ubah."
      ],
      "metadata": {
        "id": "hirjbknbd91L"
      }
    },
    {
      "cell_type": "code",
      "source": [
        "# Deskripsi untuk kolom kategorik\n",
        "print(\"\\nDeskripsi Data Kategorik:\")\n",
        "data.describe(include=['object'])"
      ],
      "metadata": {
        "colab": {
          "base_uri": "https://localhost:8080/",
          "height": 209
        },
        "id": "PpyEnK-zzKgl",
        "outputId": "35a5fdca-d5df-4c71-b1e5-653c408a94dd"
      },
      "execution_count": 6,
      "outputs": [
        {
          "output_type": "stream",
          "name": "stdout",
          "text": [
            "\n",
            "Deskripsi Data Kategorik:\n"
          ]
        },
        {
          "output_type": "execute_result",
          "data": {
            "text/plain": [
              "        Marital_status  Application_mode  Application_order  Course  \\\n",
              "count             4424              4424               4424    4424   \n",
              "unique               6                18                  8      17   \n",
              "top                  1                 1                  1    9500   \n",
              "freq              3919              1708               3026     766   \n",
              "\n",
              "        Previous_qualification  Nacionality    Status  \n",
              "count                     4424         4424      4424  \n",
              "unique                      17           21         3  \n",
              "top                          1            1  Graduate  \n",
              "freq                      3717         4314      2209  "
            ],
            "text/html": [
              "\n",
              "  <div id=\"df-5d3da5e5-fe29-473c-b4f5-b85a07b985b2\" class=\"colab-df-container\">\n",
              "    <div>\n",
              "<style scoped>\n",
              "    .dataframe tbody tr th:only-of-type {\n",
              "        vertical-align: middle;\n",
              "    }\n",
              "\n",
              "    .dataframe tbody tr th {\n",
              "        vertical-align: top;\n",
              "    }\n",
              "\n",
              "    .dataframe thead th {\n",
              "        text-align: right;\n",
              "    }\n",
              "</style>\n",
              "<table border=\"1\" class=\"dataframe\">\n",
              "  <thead>\n",
              "    <tr style=\"text-align: right;\">\n",
              "      <th></th>\n",
              "      <th>Marital_status</th>\n",
              "      <th>Application_mode</th>\n",
              "      <th>Application_order</th>\n",
              "      <th>Course</th>\n",
              "      <th>Previous_qualification</th>\n",
              "      <th>Nacionality</th>\n",
              "      <th>Status</th>\n",
              "    </tr>\n",
              "  </thead>\n",
              "  <tbody>\n",
              "    <tr>\n",
              "      <th>count</th>\n",
              "      <td>4424</td>\n",
              "      <td>4424</td>\n",
              "      <td>4424</td>\n",
              "      <td>4424</td>\n",
              "      <td>4424</td>\n",
              "      <td>4424</td>\n",
              "      <td>4424</td>\n",
              "    </tr>\n",
              "    <tr>\n",
              "      <th>unique</th>\n",
              "      <td>6</td>\n",
              "      <td>18</td>\n",
              "      <td>8</td>\n",
              "      <td>17</td>\n",
              "      <td>17</td>\n",
              "      <td>21</td>\n",
              "      <td>3</td>\n",
              "    </tr>\n",
              "    <tr>\n",
              "      <th>top</th>\n",
              "      <td>1</td>\n",
              "      <td>1</td>\n",
              "      <td>1</td>\n",
              "      <td>9500</td>\n",
              "      <td>1</td>\n",
              "      <td>1</td>\n",
              "      <td>Graduate</td>\n",
              "    </tr>\n",
              "    <tr>\n",
              "      <th>freq</th>\n",
              "      <td>3919</td>\n",
              "      <td>1708</td>\n",
              "      <td>3026</td>\n",
              "      <td>766</td>\n",
              "      <td>3717</td>\n",
              "      <td>4314</td>\n",
              "      <td>2209</td>\n",
              "    </tr>\n",
              "  </tbody>\n",
              "</table>\n",
              "</div>\n",
              "    <div class=\"colab-df-buttons\">\n",
              "\n",
              "  <div class=\"colab-df-container\">\n",
              "    <button class=\"colab-df-convert\" onclick=\"convertToInteractive('df-5d3da5e5-fe29-473c-b4f5-b85a07b985b2')\"\n",
              "            title=\"Convert this dataframe to an interactive table.\"\n",
              "            style=\"display:none;\">\n",
              "\n",
              "  <svg xmlns=\"http://www.w3.org/2000/svg\" height=\"24px\" viewBox=\"0 -960 960 960\">\n",
              "    <path d=\"M120-120v-720h720v720H120Zm60-500h600v-160H180v160Zm220 220h160v-160H400v160Zm0 220h160v-160H400v160ZM180-400h160v-160H180v160Zm440 0h160v-160H620v160ZM180-180h160v-160H180v160Zm440 0h160v-160H620v160Z\"/>\n",
              "  </svg>\n",
              "    </button>\n",
              "\n",
              "  <style>\n",
              "    .colab-df-container {\n",
              "      display:flex;\n",
              "      gap: 12px;\n",
              "    }\n",
              "\n",
              "    .colab-df-convert {\n",
              "      background-color: #E8F0FE;\n",
              "      border: none;\n",
              "      border-radius: 50%;\n",
              "      cursor: pointer;\n",
              "      display: none;\n",
              "      fill: #1967D2;\n",
              "      height: 32px;\n",
              "      padding: 0 0 0 0;\n",
              "      width: 32px;\n",
              "    }\n",
              "\n",
              "    .colab-df-convert:hover {\n",
              "      background-color: #E2EBFA;\n",
              "      box-shadow: 0px 1px 2px rgba(60, 64, 67, 0.3), 0px 1px 3px 1px rgba(60, 64, 67, 0.15);\n",
              "      fill: #174EA6;\n",
              "    }\n",
              "\n",
              "    .colab-df-buttons div {\n",
              "      margin-bottom: 4px;\n",
              "    }\n",
              "\n",
              "    [theme=dark] .colab-df-convert {\n",
              "      background-color: #3B4455;\n",
              "      fill: #D2E3FC;\n",
              "    }\n",
              "\n",
              "    [theme=dark] .colab-df-convert:hover {\n",
              "      background-color: #434B5C;\n",
              "      box-shadow: 0px 1px 3px 1px rgba(0, 0, 0, 0.15);\n",
              "      filter: drop-shadow(0px 1px 2px rgba(0, 0, 0, 0.3));\n",
              "      fill: #FFFFFF;\n",
              "    }\n",
              "  </style>\n",
              "\n",
              "    <script>\n",
              "      const buttonEl =\n",
              "        document.querySelector('#df-5d3da5e5-fe29-473c-b4f5-b85a07b985b2 button.colab-df-convert');\n",
              "      buttonEl.style.display =\n",
              "        google.colab.kernel.accessAllowed ? 'block' : 'none';\n",
              "\n",
              "      async function convertToInteractive(key) {\n",
              "        const element = document.querySelector('#df-5d3da5e5-fe29-473c-b4f5-b85a07b985b2');\n",
              "        const dataTable =\n",
              "          await google.colab.kernel.invokeFunction('convertToInteractive',\n",
              "                                                    [key], {});\n",
              "        if (!dataTable) return;\n",
              "\n",
              "        const docLinkHtml = 'Like what you see? Visit the ' +\n",
              "          '<a target=\"_blank\" href=https://colab.research.google.com/notebooks/data_table.ipynb>data table notebook</a>'\n",
              "          + ' to learn more about interactive tables.';\n",
              "        element.innerHTML = '';\n",
              "        dataTable['output_type'] = 'display_data';\n",
              "        await google.colab.output.renderOutput(dataTable, element);\n",
              "        const docLink = document.createElement('div');\n",
              "        docLink.innerHTML = docLinkHtml;\n",
              "        element.appendChild(docLink);\n",
              "      }\n",
              "    </script>\n",
              "  </div>\n",
              "\n",
              "\n",
              "<div id=\"df-d132b2a4-05b9-4234-87eb-1bae4a1b01e4\">\n",
              "  <button class=\"colab-df-quickchart\" onclick=\"quickchart('df-d132b2a4-05b9-4234-87eb-1bae4a1b01e4')\"\n",
              "            title=\"Suggest charts\"\n",
              "            style=\"display:none;\">\n",
              "\n",
              "<svg xmlns=\"http://www.w3.org/2000/svg\" height=\"24px\"viewBox=\"0 0 24 24\"\n",
              "     width=\"24px\">\n",
              "    <g>\n",
              "        <path d=\"M19 3H5c-1.1 0-2 .9-2 2v14c0 1.1.9 2 2 2h14c1.1 0 2-.9 2-2V5c0-1.1-.9-2-2-2zM9 17H7v-7h2v7zm4 0h-2V7h2v10zm4 0h-2v-4h2v4z\"/>\n",
              "    </g>\n",
              "</svg>\n",
              "  </button>\n",
              "\n",
              "<style>\n",
              "  .colab-df-quickchart {\n",
              "      --bg-color: #E8F0FE;\n",
              "      --fill-color: #1967D2;\n",
              "      --hover-bg-color: #E2EBFA;\n",
              "      --hover-fill-color: #174EA6;\n",
              "      --disabled-fill-color: #AAA;\n",
              "      --disabled-bg-color: #DDD;\n",
              "  }\n",
              "\n",
              "  [theme=dark] .colab-df-quickchart {\n",
              "      --bg-color: #3B4455;\n",
              "      --fill-color: #D2E3FC;\n",
              "      --hover-bg-color: #434B5C;\n",
              "      --hover-fill-color: #FFFFFF;\n",
              "      --disabled-bg-color: #3B4455;\n",
              "      --disabled-fill-color: #666;\n",
              "  }\n",
              "\n",
              "  .colab-df-quickchart {\n",
              "    background-color: var(--bg-color);\n",
              "    border: none;\n",
              "    border-radius: 50%;\n",
              "    cursor: pointer;\n",
              "    display: none;\n",
              "    fill: var(--fill-color);\n",
              "    height: 32px;\n",
              "    padding: 0;\n",
              "    width: 32px;\n",
              "  }\n",
              "\n",
              "  .colab-df-quickchart:hover {\n",
              "    background-color: var(--hover-bg-color);\n",
              "    box-shadow: 0 1px 2px rgba(60, 64, 67, 0.3), 0 1px 3px 1px rgba(60, 64, 67, 0.15);\n",
              "    fill: var(--button-hover-fill-color);\n",
              "  }\n",
              "\n",
              "  .colab-df-quickchart-complete:disabled,\n",
              "  .colab-df-quickchart-complete:disabled:hover {\n",
              "    background-color: var(--disabled-bg-color);\n",
              "    fill: var(--disabled-fill-color);\n",
              "    box-shadow: none;\n",
              "  }\n",
              "\n",
              "  .colab-df-spinner {\n",
              "    border: 2px solid var(--fill-color);\n",
              "    border-color: transparent;\n",
              "    border-bottom-color: var(--fill-color);\n",
              "    animation:\n",
              "      spin 1s steps(1) infinite;\n",
              "  }\n",
              "\n",
              "  @keyframes spin {\n",
              "    0% {\n",
              "      border-color: transparent;\n",
              "      border-bottom-color: var(--fill-color);\n",
              "      border-left-color: var(--fill-color);\n",
              "    }\n",
              "    20% {\n",
              "      border-color: transparent;\n",
              "      border-left-color: var(--fill-color);\n",
              "      border-top-color: var(--fill-color);\n",
              "    }\n",
              "    30% {\n",
              "      border-color: transparent;\n",
              "      border-left-color: var(--fill-color);\n",
              "      border-top-color: var(--fill-color);\n",
              "      border-right-color: var(--fill-color);\n",
              "    }\n",
              "    40% {\n",
              "      border-color: transparent;\n",
              "      border-right-color: var(--fill-color);\n",
              "      border-top-color: var(--fill-color);\n",
              "    }\n",
              "    60% {\n",
              "      border-color: transparent;\n",
              "      border-right-color: var(--fill-color);\n",
              "    }\n",
              "    80% {\n",
              "      border-color: transparent;\n",
              "      border-right-color: var(--fill-color);\n",
              "      border-bottom-color: var(--fill-color);\n",
              "    }\n",
              "    90% {\n",
              "      border-color: transparent;\n",
              "      border-bottom-color: var(--fill-color);\n",
              "    }\n",
              "  }\n",
              "</style>\n",
              "\n",
              "  <script>\n",
              "    async function quickchart(key) {\n",
              "      const quickchartButtonEl =\n",
              "        document.querySelector('#' + key + ' button');\n",
              "      quickchartButtonEl.disabled = true;  // To prevent multiple clicks.\n",
              "      quickchartButtonEl.classList.add('colab-df-spinner');\n",
              "      try {\n",
              "        const charts = await google.colab.kernel.invokeFunction(\n",
              "            'suggestCharts', [key], {});\n",
              "      } catch (error) {\n",
              "        console.error('Error during call to suggestCharts:', error);\n",
              "      }\n",
              "      quickchartButtonEl.classList.remove('colab-df-spinner');\n",
              "      quickchartButtonEl.classList.add('colab-df-quickchart-complete');\n",
              "    }\n",
              "    (() => {\n",
              "      let quickchartButtonEl =\n",
              "        document.querySelector('#df-d132b2a4-05b9-4234-87eb-1bae4a1b01e4 button');\n",
              "      quickchartButtonEl.style.display =\n",
              "        google.colab.kernel.accessAllowed ? 'block' : 'none';\n",
              "    })();\n",
              "  </script>\n",
              "</div>\n",
              "\n",
              "    </div>\n",
              "  </div>\n"
            ],
            "application/vnd.google.colaboratory.intrinsic+json": {
              "type": "dataframe",
              "summary": "{\n  \"name\": \"data\",\n  \"rows\": 4,\n  \"fields\": [\n    {\n      \"column\": \"Marital_status\",\n      \"properties\": {\n        \"dtype\": \"number\",\n        \"std\": 2415,\n        \"min\": 1,\n        \"max\": 4424,\n        \"num_unique_values\": 4,\n        \"samples\": [\n          6,\n          3919,\n          4424\n        ],\n        \"semantic_type\": \"\",\n        \"description\": \"\"\n      }\n    },\n    {\n      \"column\": \"Application_mode\",\n      \"properties\": {\n        \"dtype\": \"number\",\n        \"std\": 2084,\n        \"min\": 1,\n        \"max\": 4424,\n        \"num_unique_values\": 4,\n        \"samples\": [\n          18,\n          1708,\n          4424\n        ],\n        \"semantic_type\": \"\",\n        \"description\": \"\"\n      }\n    },\n    {\n      \"column\": \"Application_order\",\n      \"properties\": {\n        \"dtype\": \"number\",\n        \"std\": 2222,\n        \"min\": 1,\n        \"max\": 4424,\n        \"num_unique_values\": 4,\n        \"samples\": [\n          8,\n          3026,\n          4424\n        ],\n        \"semantic_type\": \"\",\n        \"description\": \"\"\n      }\n    },\n    {\n      \"column\": \"Course\",\n      \"properties\": {\n        \"dtype\": \"number\",\n        \"std\": 4333,\n        \"min\": 17,\n        \"max\": 9500,\n        \"num_unique_values\": 4,\n        \"samples\": [\n          17,\n          766,\n          4424\n        ],\n        \"semantic_type\": \"\",\n        \"description\": \"\"\n      }\n    },\n    {\n      \"column\": \"Previous_qualification\",\n      \"properties\": {\n        \"dtype\": \"number\",\n        \"std\": 2362,\n        \"min\": 1,\n        \"max\": 4424,\n        \"num_unique_values\": 4,\n        \"samples\": [\n          17,\n          3717,\n          4424\n        ],\n        \"semantic_type\": \"\",\n        \"description\": \"\"\n      }\n    },\n    {\n      \"column\": \"Nacionality\",\n      \"properties\": {\n        \"dtype\": \"number\",\n        \"std\": 2516,\n        \"min\": 1,\n        \"max\": 4424,\n        \"num_unique_values\": 4,\n        \"samples\": [\n          21,\n          4314,\n          4424\n        ],\n        \"semantic_type\": \"\",\n        \"description\": \"\"\n      }\n    },\n    {\n      \"column\": \"Status\",\n      \"properties\": {\n        \"dtype\": \"string\",\n        \"num_unique_values\": 4,\n        \"samples\": [\n          3,\n          \"2209\",\n          \"4424\"\n        ],\n        \"semantic_type\": \"\",\n        \"description\": \"\"\n      }\n    }\n  ]\n}"
            }
          },
          "metadata": {},
          "execution_count": 6
        }
      ]
    },
    {
      "cell_type": "markdown",
      "source": [
        "- Marital Status: Mayoritas mahasiswa berstatus single (kode 1), dengan frekuensi 3919 dari 4424.\n",
        "- Application Mode: Mode aplikasi yang paling umum adalah 1 (1st phase - general contingent), yang dipilih oleh 1708 mahasiswa.\n",
        "- Application Order: Urutan aplikasi yang paling banyak muncul adalah 1 (pilihan pertama) dengan 3026 mahasiswa memilihnya.\n",
        "- Course: Kursus yang paling banyak dipilih adalah 9500 (Nursing) dengan 766 mahasiswa.\n",
        "- Previous Qualification: Mayoritas mahasiswa memiliki kualifikasi 1 (Secondary education), dengan 3717 mahasiswa.\n",
        "- Nationality: Sebagian besar mahasiswa berasal dari Portugal (kode 1), dengan 4314 mahasiswa.\n",
        "- Status: Status akhir mahasiswa yang paling banyak tercatat adalah Graduate (2209 mahasiswa)."
      ],
      "metadata": {
        "id": "6EMm7ZbseC6f"
      }
    },
    {
      "cell_type": "code",
      "source": [
        "data[\"Status\"].value_counts()"
      ],
      "metadata": {
        "colab": {
          "base_uri": "https://localhost:8080/",
          "height": 209
        },
        "id": "4bViPGoCJEqr",
        "outputId": "40756e9e-8648-4e81-ae78-0099e82f48b7"
      },
      "execution_count": 7,
      "outputs": [
        {
          "output_type": "execute_result",
          "data": {
            "text/plain": [
              "Status\n",
              "Graduate    2209\n",
              "Dropout     1421\n",
              "Enrolled     794\n",
              "Name: count, dtype: int64"
            ],
            "text/html": [
              "<div>\n",
              "<style scoped>\n",
              "    .dataframe tbody tr th:only-of-type {\n",
              "        vertical-align: middle;\n",
              "    }\n",
              "\n",
              "    .dataframe tbody tr th {\n",
              "        vertical-align: top;\n",
              "    }\n",
              "\n",
              "    .dataframe thead th {\n",
              "        text-align: right;\n",
              "    }\n",
              "</style>\n",
              "<table border=\"1\" class=\"dataframe\">\n",
              "  <thead>\n",
              "    <tr style=\"text-align: right;\">\n",
              "      <th></th>\n",
              "      <th>count</th>\n",
              "    </tr>\n",
              "    <tr>\n",
              "      <th>Status</th>\n",
              "      <th></th>\n",
              "    </tr>\n",
              "  </thead>\n",
              "  <tbody>\n",
              "    <tr>\n",
              "      <th>Graduate</th>\n",
              "      <td>2209</td>\n",
              "    </tr>\n",
              "    <tr>\n",
              "      <th>Dropout</th>\n",
              "      <td>1421</td>\n",
              "    </tr>\n",
              "    <tr>\n",
              "      <th>Enrolled</th>\n",
              "      <td>794</td>\n",
              "    </tr>\n",
              "  </tbody>\n",
              "</table>\n",
              "</div><br><label><b>dtype:</b> int64</label>"
            ]
          },
          "metadata": {},
          "execution_count": 7
        }
      ]
    },
    {
      "cell_type": "markdown",
      "source": [
        "Distribusi dari kolom Status yang menjadi target/label dari project ini tidak seimbang, sehingga perlu dilakukan oversampling agar datanya seimbang untuk tahap modeling nanti."
      ],
      "metadata": {
        "id": "5LYQttWudGtC"
      }
    },
    {
      "cell_type": "markdown",
      "source": [
        "## **2.3. Data Hygiene**"
      ],
      "metadata": {
        "id": "B_-nD_jT-cmM"
      }
    },
    {
      "cell_type": "markdown",
      "source": [
        "### **2.3.1. Analisis Data Duplikat**\n"
      ],
      "metadata": {
        "id": "uusVL0L_YgjF"
      }
    },
    {
      "cell_type": "code",
      "source": [
        "print(\"Jumlah duplikat:\", data.duplicated().sum())"
      ],
      "metadata": {
        "colab": {
          "base_uri": "https://localhost:8080/"
        },
        "id": "Df8cS7o7YlQj",
        "outputId": "64a0a638-606b-42f2-c3f2-5936abf69b9b"
      },
      "execution_count": 8,
      "outputs": [
        {
          "output_type": "stream",
          "name": "stdout",
          "text": [
            "Jumlah duplikat: 0\n"
          ]
        }
      ]
    },
    {
      "cell_type": "markdown",
      "source": [
        "Tidak ada duplikat dari dataset."
      ],
      "metadata": {
        "id": "F5oOmze9W_2L"
      }
    },
    {
      "cell_type": "markdown",
      "source": [
        "### **2.3.2. Analisis Missing Value**\n"
      ],
      "metadata": {
        "id": "caXzMETAYKUA"
      }
    },
    {
      "cell_type": "code",
      "source": [
        "missing_values = data.isnull().sum()\n",
        "missing_percentage = (missing_values / len(data)) * 100\n",
        "missing_data = pd.DataFrame({'Missing Values': missing_values, 'Percentage': missing_percentage})\n",
        "missing_data['Percentage'] = missing_data['Percentage'].round(2)\n",
        "print(\"Jumlah dan Persentase Missing Values per Kolom:\\n\\n\", missing_data)"
      ],
      "metadata": {
        "colab": {
          "base_uri": "https://localhost:8080/"
        },
        "id": "R5_6pBV7q9j3",
        "outputId": "f319f600-7752-4965-ff9a-ca38772fb57d"
      },
      "execution_count": 9,
      "outputs": [
        {
          "output_type": "stream",
          "name": "stdout",
          "text": [
            "Jumlah dan Persentase Missing Values per Kolom:\n",
            "\n",
            "                                               Missing Values  Percentage\n",
            "Marital_status                                             0         0.0\n",
            "Application_mode                                           0         0.0\n",
            "Application_order                                          0         0.0\n",
            "Course                                                     0         0.0\n",
            "Daytime_evening_attendance                                 0         0.0\n",
            "Previous_qualification                                     0         0.0\n",
            "Previous_qualification_grade                               0         0.0\n",
            "Nacionality                                                0         0.0\n",
            "Mothers_qualification                                      0         0.0\n",
            "Fathers_qualification                                      0         0.0\n",
            "Mothers_occupation                                         0         0.0\n",
            "Fathers_occupation                                         0         0.0\n",
            "Admission_grade                                            0         0.0\n",
            "Displaced                                                  0         0.0\n",
            "Educational_special_needs                                  0         0.0\n",
            "Debtor                                                     0         0.0\n",
            "Tuition_fees_up_to_date                                    0         0.0\n",
            "Gender                                                     0         0.0\n",
            "Scholarship_holder                                         0         0.0\n",
            "Age_at_enrollment                                          0         0.0\n",
            "International                                              0         0.0\n",
            "Curricular_units_1st_sem_credited                          0         0.0\n",
            "Curricular_units_1st_sem_enrolled                          0         0.0\n",
            "Curricular_units_1st_sem_evaluations                       0         0.0\n",
            "Curricular_units_1st_sem_approved                          0         0.0\n",
            "Curricular_units_1st_sem_grade                             0         0.0\n",
            "Curricular_units_1st_sem_without_evaluations               0         0.0\n",
            "Curricular_units_2nd_sem_credited                          0         0.0\n",
            "Curricular_units_2nd_sem_enrolled                          0         0.0\n",
            "Curricular_units_2nd_sem_evaluations                       0         0.0\n",
            "Curricular_units_2nd_sem_approved                          0         0.0\n",
            "Curricular_units_2nd_sem_grade                             0         0.0\n",
            "Curricular_units_2nd_sem_without_evaluations               0         0.0\n",
            "Unemployment_rate                                          0         0.0\n",
            "Inflation_rate                                             0         0.0\n",
            "GDP                                                        0         0.0\n",
            "Status                                                     0         0.0\n"
          ]
        }
      ]
    },
    {
      "cell_type": "markdown",
      "source": [
        "Tidak ada kolom yang memiliki nilai yang hilang/kosong, sehingga tidak diperlukan preprocessing untuk mengatasi nilai yang hilang/kosong."
      ],
      "metadata": {
        "id": "i8hOQCsIc331"
      }
    },
    {
      "cell_type": "markdown",
      "source": [
        "## **2.4. Exploratory Data Analysis (EDA)**\n",
        "\n",
        "EDA adalah langkah penting untuk memahami data dan mendapatkan insight yang relevan dengan tujuan perusahaan. Fokus utama adalah menganalisis dua metrik: Drop Out Rate dan Academic Performance Index.\n",
        "\n",
        "\n",
        "### **1. Dropout Rate (Tingkat Dropout):**\n",
        "Dropout Rate adalah persentase mahasiswa yang keluar pada periode tertentu.\n",
        "\n",
        "#### **Formula:**\n",
        "$$\n",
        "\\text{Dropout Rate} = \\frac{\\text{Jumlah Siswa Dropout}}{\\text{Jumlah Siswa Total}} \\times 100\\%\n",
        "$$\n",
        "\n",
        "### **2. Academic Performance Index (Indeks Kinerja Akademik):**\n",
        "Academic Performance Index adalah rata-rata nilai keseluruhan dari semua mahasiswa.\n",
        "\n",
        "#### **Formula:**\n",
        "$$\n",
        "\\text{API} = \\frac{\\text{Total Nilai Semester 1 + Total Nilai Semester 2}}{\\text{Jumlah Mata Kuliah Terdaftar Semester 1 + Semester 2}}\n",
        "$$"
      ],
      "metadata": {
        "id": "w8GctLQuYr6n"
      }
    },
    {
      "cell_type": "markdown",
      "source": [
        "### **2.4.1. Dropout Rate**\n",
        "Analisis yang dilakukan adalah:\n",
        "1. Menghitung persentase mahasiswa yang keluar.\n",
        "2. Menganalisis distribusi dropout berdasarkan Debtor.\n",
        "3. Melihat distribusi dropout berdasarkan Educational special needs.\n",
        "4. Melihat distribusi dropout berdasarkan International.\n",
        "\n"
      ],
      "metadata": {
        "id": "OHua2_fkYxET"
      }
    },
    {
      "cell_type": "markdown",
      "source": [
        "#### **Persentase Dropout Rate**"
      ],
      "metadata": {
        "id": "4dxlAcUdz31z"
      }
    },
    {
      "cell_type": "code",
      "source": [
        "dropout_rate_by_status = data['Status'].value_counts(normalize=True) * 100\n",
        "\n",
        "sns.barplot(x=dropout_rate_by_status.index, y=dropout_rate_by_status.values, hue=dropout_rate_by_status.index, palette=\"coolwarm\")\n",
        "for i, value in enumerate(dropout_rate_by_status.values):\n",
        "    plt.text(i, value, f'{value:.2f}%', ha='center', va='bottom')\n",
        "plt.title(\"Status Rate (%)\")\n",
        "plt.xlabel(\"Status\")\n",
        "plt.ylabel(\"Rate (%)\")\n",
        "plt.show()"
      ],
      "metadata": {
        "colab": {
          "base_uri": "https://localhost:8080/",
          "height": 472
        },
        "id": "YCbomKYZ0UEa",
        "outputId": "5a36bdce-1173-4604-d128-fd18db8bbecb"
      },
      "execution_count": 10,
      "outputs": [
        {
          "output_type": "display_data",
          "data": {
            "text/plain": [
              "<Figure size 640x480 with 1 Axes>"
            ],
            "image/png": "[encoded data removed]"
          },
          "metadata": {}
        }
      ]
    },
    {
      "cell_type": "markdown",
      "source": [
        "Dari visualisasi di atas terlihat bahwa ada 32.12% student yang dropout dari total 4424 student. Kemudian sekitar 49.93% student graduate dan 17.95% student dengan status enrolled."
      ],
      "metadata": {
        "id": "vw5V3L5wcdgd"
      }
    },
    {
      "cell_type": "markdown",
      "source": [
        "#### **Dropout by Debtor**"
      ],
      "metadata": {
        "id": "DUi9uGw-33OW"
      }
    },
    {
      "cell_type": "code",
      "source": [
        "debtor_dropout = data[data['Status'] == 'Dropout']['Debtor'].value_counts(normalize=True) * 100\n",
        "sns.barplot(x=debtor_dropout.index, y=debtor_dropout.values, hue=debtor_dropout.index, palette=\"coolwarm\")\n",
        "for i, value in enumerate(debtor_dropout.values):\n",
        "    plt.text(i, value, f'{value:.2f}%', ha='center', va='bottom')\n",
        "plt.title('Dropout Distribution by Debtor')\n",
        "plt.xlabel('Debtor Status (1 – yes, 0 – no)')\n",
        "plt.ylabel('Percentage')\n",
        "plt.show()"
      ],
      "metadata": {
        "colab": {
          "base_uri": "https://localhost:8080/",
          "height": 472
        },
        "id": "E9VQiRxB38ml",
        "outputId": "e1ae07ea-1c92-4d28-b6da-497ce81b2290"
      },
      "execution_count": 11,
      "outputs": [
        {
          "output_type": "display_data",
          "data": {
            "text/plain": [
              "<Figure size 640x480 with 1 Axes>"
            ],
            "image/png": "[encoded data removed]"
          },
          "metadata": {}
        }
      ]
    },
    {
      "cell_type": "markdown",
      "source": [
        "Dari visualisasi di atas terlihat bahwa student yang dropout sekitar 78.04% nya adalah yang tidak memiliki hutang. Dengan 21.96% student dropout yang memiliki hutang. Artinya 1/5 student yang dropout memiliki hutang."
      ],
      "metadata": {
        "id": "dIIeHKdkcAnP"
      }
    },
    {
      "cell_type": "markdown",
      "source": [
        "#### Dropout by Educational Special Needs"
      ],
      "metadata": {
        "id": "Rgzdr_jU5A0W"
      }
    },
    {
      "cell_type": "code",
      "source": [
        "special_needs_dropout = data[data['Status'] == 'Dropout']['Educational_special_needs'].value_counts(normalize=True) * 100\n",
        "sns.barplot(x=special_needs_dropout.index, y=special_needs_dropout.values, hue=special_needs_dropout.index, palette=\"coolwarm\")\n",
        "for i, value in enumerate(special_needs_dropout.values):\n",
        "    plt.text(i, value, f'{value:.2f}%', ha='center', va='bottom')\n",
        "plt.title('Dropout Distribution by Educational Special Needs')\n",
        "plt.xlabel('Special Needs Status (1 – yes, 0 – no)')\n",
        "plt.ylabel('Percentage')\n",
        "plt.show()"
      ],
      "metadata": {
        "colab": {
          "base_uri": "https://localhost:8080/",
          "height": 472
        },
        "id": "rO8uxXg85ED8",
        "outputId": "2cd0c5e5-01f7-4385-a719-e0d00ff5ddc7"
      },
      "execution_count": 12,
      "outputs": [
        {
          "output_type": "display_data",
          "data": {
            "text/plain": [
              "<Figure size 640x480 with 1 Axes>"
            ],
            "image/png": "[encoded data removed]"
          },
          "metadata": {}
        }
      ]
    },
    {
      "cell_type": "markdown",
      "source": [
        "Dari visualisasi di atas terlihat bahwa student yang dropout sekitar 98.80% nya adalah yang bukan berkebutuhan khusus. Dengan hanya 1.20% student berkebutuhan khusus yang dropout."
      ],
      "metadata": {
        "id": "vo1duFD2bSnq"
      }
    },
    {
      "cell_type": "markdown",
      "source": [
        "#### Dropout by International Status"
      ],
      "metadata": {
        "id": "8OH9hz525r6Q"
      }
    },
    {
      "cell_type": "code",
      "source": [
        "international_dropout = data[data['Status'] == 'Dropout']['International'].value_counts(normalize=True) * 100\n",
        "sns.barplot(x=international_dropout.index, y=international_dropout.values, hue=international_dropout.index, palette=\"coolwarm\")\n",
        "for i, value in enumerate(international_dropout.values):\n",
        "    plt.text(i, value, f'{value:.2f}%', ha='center', va='bottom')\n",
        "plt.title('Dropout Distribution by International Status')\n",
        "plt.xlabel('International Status (1 – yes, 0 – no)')\n",
        "plt.ylabel('Percentage')\n",
        "plt.show()"
      ],
      "metadata": {
        "colab": {
          "base_uri": "https://localhost:8080/",
          "height": 472
        },
        "id": "Ck77OgVS5voM",
        "outputId": "933c75b9-5408-41a7-8998-edca3f30d340"
      },
      "execution_count": 13,
      "outputs": [
        {
          "output_type": "display_data",
          "data": {
            "text/plain": [
              "<Figure size 640x480 with 1 Axes>"
            ],
            "image/png": "[encoded data removed]"
          },
          "metadata": {}
        }
      ]
    },
    {
      "cell_type": "markdown",
      "source": [
        "Dari visualisasi di atas terlihat student yang dropout sebanyak 97.75% adalah student yang bukan dari international. Dengan hanya 2.25% student international yang dropout."
      ],
      "metadata": {
        "id": "QwqUHzGra9f0"
      }
    },
    {
      "cell_type": "markdown",
      "source": [
        "### **2.4.2. Academic Performance Index (Indeks Kinerja Akademik)**\n",
        "Analisis yang dilakukan adalah:\n",
        "1. Menghitung rata-rata nilai semua mahasiswa.\n",
        "2. Menganalisis distribusi Academic Performance Index berdasarkan Status.\n",
        "3. Melihat distribusi Academic Performance Index berdasarkan Admission_grade.\n",
        "4. Melihat distribusi Academic Performance Index berdasarkan Daytime_evening_attendance.\n"
      ],
      "metadata": {
        "id": "rpGJyTAQZTiK"
      }
    },
    {
      "cell_type": "markdown",
      "source": [
        "#### Academic Performance Index Distribution"
      ],
      "metadata": {
        "id": "qKFurmrm6S1V"
      }
    },
    {
      "cell_type": "code",
      "source": [
        "valid_students = data[(data['Status'].isin(['Dropout', 'Graduate'])) &\n",
        "                       (data['Curricular_units_1st_sem_grade'].notnull()) &\n",
        "                       (data['Curricular_units_2nd_sem_grade'].notnull())].copy()\n",
        "\n",
        "valid_students.loc[:, 'API'] = (\n",
        "    (valid_students['Curricular_units_1st_sem_grade'] + valid_students['Curricular_units_2nd_sem_grade']) /\n",
        "    (valid_students['Curricular_units_1st_sem_enrolled'] + valid_students['Curricular_units_2nd_sem_enrolled'])\n",
        ")\n",
        "\n",
        "sns.histplot(valid_students['API'], kde=True, bins=20)\n",
        "plt.grid(axis='y', linestyle='--', linewidth=0.3, color='gray')\n",
        "plt.title('Academic Performance Index Distribution')\n",
        "plt.xlabel('Academic Performance Index')\n",
        "plt.ylabel('Frequency')\n",
        "plt.show()"
      ],
      "metadata": {
        "colab": {
          "base_uri": "https://localhost:8080/",
          "height": 472
        },
        "id": "1R5306Te6ek7",
        "outputId": "36029b84-96cd-413a-a1e0-39214c634f1b"
      },
      "execution_count": 14,
      "outputs": [
        {
          "output_type": "display_data",
          "data": {
            "text/plain": [
              "<Figure size 640x480 with 1 Axes>"
            ],
            "image/png": "[encoded data removed]"
          },
          "metadata": {}
        }
      ]
    },
    {
      "cell_type": "markdown",
      "source": [
        "Dari visualisasi histogram di atas terlihat distribusi Academic Performance Index yang berkisar antara 0 hingga 7. Terlihat puncak distribusi ada di angka 2 dengan frekuensi sekitar 1000."
      ],
      "metadata": {
        "id": "Y4SdGqXxabbD"
      }
    },
    {
      "cell_type": "markdown",
      "source": [
        "#### Academic Performance Index by Status"
      ],
      "metadata": {
        "id": "EDlRiR9L9xI1"
      }
    },
    {
      "cell_type": "code",
      "source": [
        "data['API'] = (\n",
        "    (data['Curricular_units_1st_sem_grade'] + data['Curricular_units_2nd_sem_grade']) /\n",
        "    (data['Curricular_units_1st_sem_enrolled'] + data['Curricular_units_2nd_sem_enrolled'])\n",
        ")\n",
        "\n",
        "sns.boxplot(x='Status', y='API', data=data, hue='Status', palette='coolwarm')\n",
        "plt.title('API Distribution by Status')\n",
        "plt.xlabel('Status')\n",
        "plt.ylabel('Academic Performance Index')\n",
        "plt.show()"
      ],
      "metadata": {
        "colab": {
          "base_uri": "https://localhost:8080/",
          "height": 472
        },
        "id": "fMhQk25g8rqL",
        "outputId": "ef8b0289-d7ed-4d02-9469-f0f48e24ae0f"
      },
      "execution_count": 15,
      "outputs": [
        {
          "output_type": "display_data",
          "data": {
            "text/plain": [
              "<Figure size 640x480 with 1 Axes>"
            ],
            "image/png": "[encoded data removed]"
          },
          "metadata": {}
        }
      ]
    },
    {
      "cell_type": "markdown",
      "source": [
        "Dari visualisasi bloxplot di atas, sangat jelas bahwa status Dropout memiliki Academic Performance Index yang lebih rendah dibangingkan dengan status yang lainnya."
      ],
      "metadata": {
        "id": "kC2P0fKIaOE2"
      }
    },
    {
      "cell_type": "markdown",
      "source": [
        "#### Academic Performance Index by Admission Grade"
      ],
      "metadata": {
        "id": "2hur6u-5-Bq6"
      }
    },
    {
      "cell_type": "code",
      "source": [
        "sns.scatterplot(x='Admission_grade', y='API', data=data, hue='API', palette='coolwarm')\n",
        "plt.title('Academic Performance Index vs Admission Grade')\n",
        "plt.xlabel('Admission Grade')\n",
        "plt.ylabel('Academic Performance Index')\n",
        "plt.show()"
      ],
      "metadata": {
        "colab": {
          "base_uri": "https://localhost:8080/",
          "height": 472
        },
        "id": "86wTW_an-Fos",
        "outputId": "61c2b2f4-bfa2-45b4-afb6-91e320fda315"
      },
      "execution_count": 16,
      "outputs": [
        {
          "output_type": "display_data",
          "data": {
            "text/plain": [
              "<Figure size 640x480 with 1 Axes>"
            ],
            "image/png": "[encoded data removed]"
          },
          "metadata": {}
        }
      ]
    },
    {
      "cell_type": "markdown",
      "source": [
        "Dari visualisasi scatterplot di atas tidak terlihat hubungan signifikan antara Academic Performance Index dengan Admission Grade. Terlihat kebanyakan data berada di API 1-3."
      ],
      "metadata": {
        "id": "8rGDsVZeZWcq"
      }
    },
    {
      "cell_type": "markdown",
      "source": [
        "#### Academic Performance Index by Daytime/Evening Attendance"
      ],
      "metadata": {
        "id": "jmdd9Cw5-xxV"
      }
    },
    {
      "cell_type": "code",
      "source": [
        "sns.boxplot(x='Daytime_evening_attendance', y='API', data=data, hue='Daytime_evening_attendance', palette='coolwarm')\n",
        "plt.title('Academic Performance Index Distribution by Attendance Type')\n",
        "plt.xlabel('Attendance Type (1 – daytime, 0 - evening)')\n",
        "plt.ylabel('Academic Performance Index')\n",
        "plt.show()"
      ],
      "metadata": {
        "colab": {
          "base_uri": "https://localhost:8080/",
          "height": 472
        },
        "id": "nUqg49q_-5SM",
        "outputId": "189c06d8-bc20-4f32-c09e-660d1ecc9070"
      },
      "execution_count": 17,
      "outputs": [
        {
          "output_type": "display_data",
          "data": {
            "text/plain": [
              "<Figure size 640x480 with 1 Axes>"
            ],
            "image/png": "[encoded data removed]"
          },
          "metadata": {}
        }
      ]
    },
    {
      "cell_type": "markdown",
      "source": [
        "Visualisasi dengan boxplot di atas menunjukkan bahwa Attendance dengan Type evening ternyata memiliki Academic Performance Index yang lebih rendah dibandingkan dengan Attendeance type daytime."
      ],
      "metadata": {
        "id": "OD43mP8cY3VD"
      }
    },
    {
      "cell_type": "markdown",
      "source": [
        "# **3. Data Preparation**"
      ],
      "metadata": {
        "id": "oL9gy8aEQoT8"
      }
    },
    {
      "cell_type": "markdown",
      "source": [
        "## **3.1. Mengonversi Variabel Kategorikal dan Normalisasi Fitur**\n",
        "\n",
        "Teknik Preprocessing yang Digunakan\n",
        "\n",
        "1. Binary Encoding: Untuk mengubah variabel biner menjadi format numerik yang dapat digunakan oleh model ML tanpa menambahkan banyak dimensi seperti one-hot encoding untuk variabel biner. BinaryEncoder dari `category_encoders` mengubah satu kolom biner menjadi beberapa kolom biner yang mewakili nilai dalam bentuk biner.\n",
        "\n",
        "2. One-Hot Encoding: Untuk mengubah variabel kategorikal menjadi representasi numerik yang tidak menyiratkan urutan atau hierarki antar kategori. OneHotEncoder dari `category_encoders` digunakan dengan `use_cat_names=True` untuk memberikan nama kolom yang deskriptif dan mudah dibaca.\n",
        "\n",
        "3. Standard Scaling: Untuk normalisasi fitur numerik, memastikan semua fitur berkontribusi secara setara dalam training model tanpa satu fitur mendominasi karena skala yang berbeda. StandardScaler mengubah data sehingga nilai rata-rata menjadi 0 dan standar deviasi menjadi 1."
      ],
      "metadata": {
        "id": "AHjPMkoNTWVG"
      }
    },
    {
      "cell_type": "code",
      "source": [
        "binary_columns = [\n",
        "    \"Daytime_evening_attendance\", \"Displaced\", \"Educational_special_needs\", \"Debtor\",\n",
        "    \"Tuition_fees_up_to_date\", \"Gender\", \"Scholarship_holder\", \"International\"\n",
        "]\n",
        "\n",
        "categorical_columns = [\n",
        "    \"Marital_status\", \"Application_mode\", \"Application_order\", \"Course\",\n",
        "    \"Previous_qualification\", \"Nacionality\"\n",
        "]\n",
        "\n",
        "numeric_columns = [\n",
        "    \"Previous_qualification_grade\", \"Admission_grade\", \"Age_at_enrollment\",\n",
        "    \"Curricular_units_1st_sem_credited\", \"Curricular_units_1st_sem_enrolled\",\n",
        "    \"Curricular_units_1st_sem_evaluations\", \"Curricular_units_1st_sem_approved\",\n",
        "    \"Curricular_units_1st_sem_grade\", \"Curricular_units_1st_sem_without_evaluations\",\n",
        "    \"Curricular_units_2nd_sem_credited\", \"Curricular_units_2nd_sem_enrolled\",\n",
        "    \"Curricular_units_2nd_sem_evaluations\", \"Curricular_units_2nd_sem_approved\",\n",
        "    \"Curricular_units_2nd_sem_grade\", \"Curricular_units_2nd_sem_without_evaluations\",\n",
        "    \"Unemployment_rate\", \"Inflation_rate\", \"GDP\"\n",
        "]\n",
        "\n",
        "# Pipelines preprocessing\n",
        "binary_transformer = Pipeline(steps=[\n",
        "    ('binary', ce.BinaryEncoder())\n",
        "])\n",
        "\n",
        "categorical_transformer = Pipeline(steps=[\n",
        "    ('onehot', ce.OneHotEncoder(use_cat_names=True))\n",
        "])\n",
        "\n",
        "numeric_transformer = Pipeline(steps=[\n",
        "    ('scaler', StandardScaler())\n",
        "])\n",
        "\n",
        "# Setup preprocessor\n",
        "preprocessor = ColumnTransformer(\n",
        "    transformers=[\n",
        "        ('bin', binary_transformer, binary_columns),\n",
        "        ('cat', categorical_transformer, categorical_columns),\n",
        "        ('num', numeric_transformer, numeric_columns)\n",
        "    ])\n",
        "\n",
        "X = data.drop(columns=[\"Status\", \"Mothers_qualification\", \"Fathers_qualification\", \"Mothers_occupation\", \"Fathers_occupation\"])\n",
        "y = data['Status']\n",
        "\n",
        "X[categorical_columns] = X[categorical_columns].apply(pd.to_numeric, errors='coerce')\n",
        "X[categorical_columns] = X[categorical_columns].astype('category')\n",
        "\n",
        "X = preprocessor.fit_transform(X)\n",
        "\n",
        "feature_names = preprocessor.get_feature_names_out()\n",
        "data_transformed = pd.DataFrame(X, columns=feature_names)\n",
        "\n",
        "joblib.dump(preprocessor, 'preprocessor_model.joblib')\n",
        "\n",
        "print(\"Ukuran dataset setelah transformasi:\", data_transformed.shape)"
      ],
      "metadata": {
        "colab": {
          "base_uri": "https://localhost:8080/"
        },
        "id": "ZhMRW79bT6h_",
        "outputId": "c0f17435-7435-4cae-bc82-2c77412c4356"
      },
      "execution_count": 18,
      "outputs": [
        {
          "output_type": "stream",
          "name": "stdout",
          "text": [
            "Warning: No categorical columns found. Calling 'transform' will only return input data.\n",
            "Ukuran dataset setelah transformasi: (4424, 113)\n"
          ]
        }
      ]
    },
    {
      "cell_type": "markdown",
      "source": [
        "Agar dimensi dataset tidak terlalu besar, kolom \"Mothers_qualification\", \"Fathers_qualification\", Mothers_occupation\", \"Fathers_occupation\" dihapus dari dataset dengan harapan pada tahap modeling nantinya model lebih efektif dan efisien.\n",
        "\n",
        "Dataset sekarang memiliki lebih banyak kolom yaitu 113 kolom setelah preprocessing di atas. Semua data kategorikal termasuk yang biner telah diubah menjadi bentuk numerik yang sesuai untuk input model ML.\n",
        "\n",
        "Fitur numerik telah discaling, yang membantu dalam pembelajaran model dengan algoritma yang sensitif terhadap skala data. One-hot encoding untuk variabel kategorikal menghasilkan kolom baru, tetapi dengan manajemen yang baik untuk menghindari curse of dimensionality."
      ],
      "metadata": {
        "id": "IUpHnrh-wBsj"
      }
    },
    {
      "cell_type": "markdown",
      "source": [
        "## **3.2. Split Data dan Oversampling Data dengan SMOTE**\n",
        "\n",
        "Sebelum melakukan oversampling, data dibagi menjadi set pelatihan (train) dan set pengujian (test) dengan perbandingan 80:20 menggunakan train_test_split. Ini dilakukan sebelum SMOTE untuk menghindari data leakage atau kebocoran data. Test set harus tetap mencerminkan distribusi asli data.\n",
        "\n",
        "Variabel target `Status` tidak seimbang. Oversampling dengan SMOTE menciptakan sampel sintetis untuk kelas minoritas, sehingga meningkatkan performa model. Oversampling menggunakan Synthetic Minority Oversampling Technique (SMOTE). Hanya data pelatihan yang di-resample dengan SMOTE untuk membuat dataset yang lebih seimbang tanpa mempengaruhi data uji."
      ],
      "metadata": {
        "id": "cpen_YnwUdwb"
      }
    },
    {
      "cell_type": "code",
      "source": [
        "X_train, X_test, y_train, y_test = train_test_split(X, y, test_size=0.2, random_state=42)\n",
        "\n",
        "smote = SMOTE(random_state=42)\n",
        "X_train_resampled, y_train_resampled = smote.fit_resample(X_train, y_train)\n",
        "\n",
        "print(\"Distribution of target before SMOTE (Training set):\")\n",
        "print(y_train.value_counts())\n",
        "print(\"\\nDistribution of target after SMOTE (Training set):\")\n",
        "print(pd.Series(y_train_resampled).value_counts())\n",
        "\n",
        "print(\"\\nSize of training data after SMOTE:\", X_train_resampled.shape)\n",
        "print(\"Size of test data (unchanged):\", X_test.shape)"
      ],
      "metadata": {
        "colab": {
          "base_uri": "https://localhost:8080/"
        },
        "id": "U0SwlZWJyDup",
        "outputId": "44a5afca-55ae-4602-c554-090aabc3169d"
      },
      "execution_count": 19,
      "outputs": [
        {
          "output_type": "stream",
          "name": "stdout",
          "text": [
            "Distribution of target before SMOTE (Training set):\n",
            "Status\n",
            "Graduate    1791\n",
            "Dropout     1105\n",
            "Enrolled     643\n",
            "Name: count, dtype: int64\n",
            "\n",
            "Distribution of target after SMOTE (Training set):\n",
            "Status\n",
            "Dropout     1791\n",
            "Enrolled    1791\n",
            "Graduate    1791\n",
            "Name: count, dtype: int64\n",
            "\n",
            "Size of training data after SMOTE: (5373, 113)\n",
            "Size of test data (unchanged): (885, 113)\n"
          ]
        }
      ]
    },
    {
      "cell_type": "markdown",
      "source": [
        "Sekarang memiliki distribusi kelas yang lebih seimbang, yang dapat membantu model untuk belajar dari kedua kelas dengan lebih adil. Tetapi data test tetap memiliki distribusi asli, memberikan evaluasi yang realistis tentang performa model pada data asli."
      ],
      "metadata": {
        "id": "rxJZcBLyC_NQ"
      }
    },
    {
      "cell_type": "markdown",
      "source": [
        "## **3.2. Encode Target/Label**"
      ],
      "metadata": {
        "id": "04P7ntMlXBg7"
      }
    },
    {
      "cell_type": "markdown",
      "source": [
        "Karena kolom status yang sebagai target memiliki nilai string, maka perlu diubah jadi numerik agar bisa digunakan untuk proses modeling"
      ],
      "metadata": {
        "id": "ZhoC83lUXVfr"
      }
    },
    {
      "cell_type": "code",
      "source": [
        "# Menggunakan LabelEncoder untuk mengonversi label menjadi angka\n",
        "label_encoder = LabelEncoder()\n",
        "y_train_resampled_encoded = label_encoder.fit_transform(y_train_resampled)\n",
        "y_test_encoded = label_encoder.fit_transform(y_test)"
      ],
      "metadata": {
        "id": "rMpzD8I2KHt4"
      },
      "execution_count": 20,
      "outputs": []
    },
    {
      "cell_type": "code",
      "source": [
        "# Konversi ke Pandas Series dan hitung frekuensi masing-masing label\n",
        "y_train_resampled_encoded_series = pd.Series(y_train_resampled_encoded)\n",
        "y_test_encoded_series = pd.Series(y_test_encoded)\n",
        "\n",
        "# Lihat distribusi kelas\n",
        "print(\"Distribusi kelas pada y_train_resampled_encoded:\")\n",
        "print(y_train_resampled_encoded_series.value_counts())\n",
        "\n",
        "print(\"\\nDistribusi kelas pada y_test_encoded:\")\n",
        "print(y_test_encoded_series.value_counts())"
      ],
      "metadata": {
        "colab": {
          "base_uri": "https://localhost:8080/"
        },
        "id": "5oKUdxBVXzZx",
        "outputId": "ca6a65ce-cd10-4d1d-a51d-487772d25117"
      },
      "execution_count": 21,
      "outputs": [
        {
          "output_type": "stream",
          "name": "stdout",
          "text": [
            "Distribusi kelas pada y_train_resampled_encoded:\n",
            "0    1791\n",
            "1    1791\n",
            "2    1791\n",
            "Name: count, dtype: int64\n",
            "\n",
            "Distribusi kelas pada y_test_encoded:\n",
            "2    418\n",
            "0    316\n",
            "1    151\n",
            "Name: count, dtype: int64\n"
          ]
        }
      ]
    },
    {
      "cell_type": "markdown",
      "source": [
        "Sekarang target sudah berbentuk numerik dan siap untuk tahap modeling."
      ],
      "metadata": {
        "id": "2BrOjOqFYODV"
      }
    },
    {
      "cell_type": "markdown",
      "source": [
        "# **4. Modeling**"
      ],
      "metadata": {
        "id": "YJ6mFtufU9Km"
      }
    },
    {
      "cell_type": "markdown",
      "source": [
        "## **4.1. Pemilihan Algoritma**\n",
        "\n",
        "Project ini akan menggunakan dua algoritma berikut:\n",
        "\n",
        "1. **Random Forest (RF):**\n",
        "   - Algoritma ensemble berbasis pohon keputusan yang kuat terhadap outlier dan non-linearitas.\n",
        "   - Mengurangi overfitting dibandingkan pohon keputusan tunggal.\n",
        "\n",
        "2. **XGBoost (XGB):**\n",
        "   - Algoritma boosting berbasis gradien yang efisien.\n",
        "   - Memiliki kemampuan bawaan untuk menangani ketidakseimbangan data dengan pengaturan **scale_pos_weight**.\n",
        "   - Populer dalam industri karena kecepatan dan performa tinggi pada dataset dengan dimensi besar."
      ],
      "metadata": {
        "id": "zfWAp6EgWBpr"
      }
    },
    {
      "cell_type": "markdown",
      "source": [
        "## **4.2. Proses Modeling**"
      ],
      "metadata": {
        "id": "43IPxaSQWvPq"
      }
    },
    {
      "cell_type": "markdown",
      "source": [
        "### **4.2.1. Model Random Forest**\n",
        "\n",
        "**Penjelasan Hyperparameter Random Forest**:\n",
        "- **`n_estimators`**: Jumlah pohon (trees) yang digunakan dalam forest. Semakin banyak pohon, model akan lebih stabil, namun juga membutuhkan lebih banyak waktu untuk pelatihan.\n",
        "- **`max_depth`**: Kedalaman maksimum dari setiap pohon. Pohon yang lebih dalam dapat menyebabkan overfitting, jadi semakin kecil nilai `max_depth`, model akan lebih sederhana.\n",
        "- **`min_samples_split`**: Minimum jumlah sampel yang diperlukan untuk membagi node internal. Nilai yang lebih besar akan membantu mengurangi overfitting dengan membuat pohon lebih umum.\n",
        "- **`min_samples_leaf`**: Minimum jumlah sampel yang diperlukan untuk membentuk sebuah leaf node. Nilai yang lebih besar akan membuat model lebih sederhana dan mengurangi overfitting."
      ],
      "metadata": {
        "id": "sI9gSbUyW3-2"
      }
    },
    {
      "cell_type": "code",
      "source": [
        "rf_model = RandomForestClassifier(random_state=42)\n",
        "param_grid_rf = {\n",
        "    'n_estimators': [50, 100, 200],\n",
        "    'max_depth': [None, 10, 20, 30],\n",
        "    'min_samples_split': [2, 5, 10],\n",
        "    'min_samples_leaf': [1, 2, 4],\n",
        "}\n",
        "\n",
        "grid_search_rf = GridSearchCV(estimator=rf_model, param_grid=param_grid_rf, cv=5, n_jobs=-1, verbose=2)\n",
        "grid_search_rf.fit(X_train_resampled, y_train_resampled)\n",
        "\n",
        "print(\"Best parameters for Random Forest:\", grid_search_rf.best_params_)"
      ],
      "metadata": {
        "colab": {
          "base_uri": "https://localhost:8080/"
        },
        "id": "zPdwnlohXBm5",
        "outputId": "5bd129e8-7c60-4ac2-d949-123834f86b2b"
      },
      "execution_count": 22,
      "outputs": [
        {
          "output_type": "stream",
          "name": "stdout",
          "text": [
            "Fitting 5 folds for each of 108 candidates, totalling 540 fits\n",
            "Best parameters for Random Forest: {'max_depth': None, 'min_samples_leaf': 1, 'min_samples_split': 2, 'n_estimators': 100}\n"
          ]
        }
      ]
    },
    {
      "cell_type": "code",
      "source": [
        "best_rf_model = grid_search_rf.best_estimator_\n",
        "y_pred_rf = best_rf_model.predict(X_test)\n",
        "\n",
        "# Classification report\n",
        "print(\"Classification Report - Random Forest\")\n",
        "print(classification_report(y_test, y_pred_rf))\n",
        "\n",
        "# Menghitung Metrik Evaluasi\n",
        "accuracy = accuracy_score(y_test, y_pred_rf)\n",
        "precision = precision_score(y_test, y_pred_rf, average='weighted')\n",
        "recall = recall_score(y_test, y_pred_rf, average='weighted')\n",
        "f1 = f1_score(y_test, y_pred_rf, average='weighted')\n",
        "\n",
        "# Output metrik\n",
        "print(f\"Accuracy: {accuracy * 100:.2f}%\")\n",
        "print(f\"Precision (Weighted): {precision * 100:.2f}%\")\n",
        "print(f\"Recall (Weighted): {recall * 100:.2f}%\")\n",
        "print(f\"F1 Score (Weighted): {f1 * 100:.2f}%\")\n",
        "\n",
        "# Confusion Matrix\n",
        "cm_rf = confusion_matrix(y_test, y_pred_rf)\n",
        "disp_rf = ConfusionMatrixDisplay(confusion_matrix=cm_rf, display_labels=['Dropout', 'Enrolled', 'Graduate'])\n",
        "disp_rf.plot(cmap='Blues')\n",
        "plt.title(\"Confusion Matrix - Random Forest\")\n",
        "plt.show()\n",
        "\n",
        "joblib.dump(best_rf_model, 'best_rf_model.joblib')"
      ],
      "metadata": {
        "colab": {
          "base_uri": "https://localhost:8080/",
          "height": 749
        },
        "id": "2ArhQpyLXCgS",
        "outputId": "c004654d-97e3-423e-c1f6-ac88749ffbb7"
      },
      "execution_count": 23,
      "outputs": [
        {
          "output_type": "stream",
          "name": "stdout",
          "text": [
            "Classification Report - Random Forest\n",
            "              precision    recall  f1-score   support\n",
            "\n",
            "     Dropout       0.85      0.75      0.79       316\n",
            "    Enrolled       0.51      0.47      0.49       151\n",
            "    Graduate       0.81      0.90      0.85       418\n",
            "\n",
            "    accuracy                           0.77       885\n",
            "   macro avg       0.72      0.71      0.71       885\n",
            "weighted avg       0.77      0.77      0.77       885\n",
            "\n",
            "Accuracy: 77.40%\n",
            "Precision (Weighted): 77.20%\n",
            "Recall (Weighted): 77.40%\n",
            "F1 Score (Weighted): 77.05%\n"
          ]
        },
        {
          "output_type": "display_data",
          "data": {
            "text/plain": [
              "<Figure size 640x480 with 2 Axes>"
            ],
            "image/png": "[encoded data removed]"
          },
          "metadata": {}
        },
        {
          "output_type": "execute_result",
          "data": {
            "text/plain": [
              "['best_rf_model.joblib']"
            ]
          },
          "metadata": {},
          "execution_count": 23
        }
      ]
    },
    {
      "cell_type": "markdown",
      "source": [
        "### **4.2.2. Model XGBoost**\n",
        "\n",
        "**Penjelasan hyperparameter XGBoost**:\n",
        "- **`n_estimators`**: Jumlah boosting rounds (atau trees) yang akan dilatih. Semakin banyak pohon, model mungkin akan lebih akurat, tetapi juga bisa mengalami overfitting dan pelatihan yang lebih lama.\n",
        "- **`max_depth`**: Kedalaman maksimum dari pohon yang dibuat dalam boosting. Semakin dalam pohon, semakin besar risiko overfitting, jadi nilai ini sering kali disesuaikan agar tidak terlalu dalam.\n",
        "- **`subsample`**: Prosentase data yang digunakan untuk setiap boosting round. Nilai yang lebih rendah dapat membantu mengurangi overfitting dengan memperkenalkan elemen keacakan pada model.\n",
        "- **`colsample_bytree`**: Fraksi fitur yang digunakan untuk setiap pohon. Mengurangi nilai ini dapat membantu menghindari overfitting dan membuat model lebih robust."
      ],
      "metadata": {
        "id": "MaoEAC2IXnxo"
      }
    },
    {
      "cell_type": "code",
      "source": [
        "# xgb_model = XGBClassifier(random_state=42)\n",
        "xgb_model = XGBClassifier(\n",
        "    objective='multi:softmax', num_class=3, random_state=42\n",
        ")\n",
        "param_grid_xgb = {\n",
        "    'n_estimators': [50, 100, 200],\n",
        "    'max_depth': [3, 6, 10],\n",
        "    'subsample': [0.8, 1.0],\n",
        "    'colsample_bytree': [0.8, 1.0]\n",
        "}\n",
        "\n",
        "grid_search_xgb = GridSearchCV(estimator=xgb_model, param_grid=param_grid_xgb, cv=5, n_jobs=-1, verbose=2)\n",
        "grid_search_xgb.fit(X_train_resampled, y_train_resampled_encoded)\n",
        "\n",
        "print(\"Best parameters for XGBoost:\", grid_search_xgb.best_params_)"
      ],
      "metadata": {
        "colab": {
          "base_uri": "https://localhost:8080/"
        },
        "id": "_gvU5CR2XsS1",
        "outputId": "e180a255-5cb9-49d9-ec57-eaa74342bcde"
      },
      "execution_count": 24,
      "outputs": [
        {
          "output_type": "stream",
          "name": "stdout",
          "text": [
            "Fitting 5 folds for each of 36 candidates, totalling 180 fits\n",
            "Best parameters for XGBoost: {'colsample_bytree': 0.8, 'max_depth': 10, 'n_estimators': 100, 'subsample': 0.8}\n"
          ]
        }
      ]
    },
    {
      "cell_type": "code",
      "source": [
        "best_xgb_model = grid_search_xgb.best_estimator_\n",
        "y_pred_xgb = best_xgb_model.predict(X_test)\n",
        "\n",
        "# Classification report\n",
        "print(\"Classification Report - XGBoost\")\n",
        "print(classification_report(y_test_encoded, y_pred_xgb))\n",
        "\n",
        "# Menghitung Metrik Evaluasi\n",
        "accuracy = accuracy_score(y_test_encoded, y_pred_xgb)\n",
        "precision = precision_score(y_test_encoded, y_pred_xgb, average='weighted')\n",
        "recall = recall_score(y_test_encoded, y_pred_xgb, average='weighted')\n",
        "f1 = f1_score(y_test_encoded, y_pred_xgb, average='weighted')\n",
        "\n",
        "# Output metrik\n",
        "print(f\"Accuracy: {accuracy * 100:.2f}%\")\n",
        "print(f\"Precision (Weighted): {precision * 100:.2f}%\")\n",
        "print(f\"Recall (Weighted): {recall * 100:.2f}%\")\n",
        "print(f\"F1 Score (Weighted): {f1 * 100:.2f}%\")\n",
        "\n",
        "# Confusion Matrix\n",
        "cm_xgb = confusion_matrix(y_test_encoded, y_pred_xgb)\n",
        "disp_xgb = ConfusionMatrixDisplay(confusion_matrix=cm_xgb, display_labels=['Dropout', 'Enrolled', 'Graduate'])\n",
        "disp_xgb.plot(cmap='Greens')\n",
        "plt.title(\"Confusion Matrix - XGBoost\")\n",
        "plt.show()\n",
        "\n",
        "joblib.dump(best_xgb_model, 'best_xgb_model.joblib')"
      ],
      "metadata": {
        "colab": {
          "base_uri": "https://localhost:8080/",
          "height": 749
        },
        "id": "XWv1xGjSXvZ8",
        "outputId": "3a0258e5-cd0e-48dd-c6e8-47eb76358bee"
      },
      "execution_count": 25,
      "outputs": [
        {
          "output_type": "stream",
          "name": "stdout",
          "text": [
            "Classification Report - XGBoost\n",
            "              precision    recall  f1-score   support\n",
            "\n",
            "           0       0.83      0.73      0.78       316\n",
            "           1       0.47      0.40      0.43       151\n",
            "           2       0.79      0.91      0.85       418\n",
            "\n",
            "    accuracy                           0.76       885\n",
            "   macro avg       0.70      0.68      0.68       885\n",
            "weighted avg       0.75      0.76      0.75       885\n",
            "\n",
            "Accuracy: 75.71%\n",
            "Precision (Weighted): 75.02%\n",
            "Recall (Weighted): 75.71%\n",
            "F1 Score (Weighted): 74.99%\n"
          ]
        },
        {
          "output_type": "display_data",
          "data": {
            "text/plain": [
              "<Figure size 640x480 with 2 Axes>"
            ],
            "image/png": "[encoded data removed]"
          },
          "metadata": {}
        },
        {
          "output_type": "execute_result",
          "data": {
            "text/plain": [
              "['best_xgb_model.joblib']"
            ]
          },
          "metadata": {},
          "execution_count": 25
        }
      ]
    },
    {
      "cell_type": "markdown",
      "source": [
        "# **5. Evaluasi Model**\n",
        "\n",
        "Evaluasi dilakukan menggunakan metrik berikut:\n",
        "\n",
        "1. **Accuracy**: Akurasi adalah persentase dari semua prediksi yang benar (baik positif maupun negatif) dibandingkan dengan total prediksi yang dibuat. Ini memberikan gambaran umum performa model tetapi bisa menyesatkan jika dataset tidak seimbang.\n",
        "\n",
        "   $$ \\text{Accuracy} = \\frac{TP + TN}{TP + TN + FP + FN} $$\n",
        "\n",
        "2. **Precision**: Presisi mengukur seberapa akurat model dalam mengidentifikasi kasus positif. Ini menunjukkan proporsi dari kasus yang diprediksi positif yang sebenarnya positif.\n",
        "\n",
        "   $$ \\text{Precision} = \\frac{TP}{TP + FP} $$\n",
        "\n",
        "3. **Recall**: Recall mengukur kemampuan model untuk menemukan semua kasus positif yang ada dalam dataset. Ini adalah proporsi dari kasus positif yang benar-benar diidentifikasi oleh model.\n",
        "\n",
        "   $$ \\text{Recall} = \\frac{TP}{TP + FN} $$\n",
        "\n",
        "4. **F1-Score**: F1-Score adalah rata-rata harmonis dari presisi dan recall, memberikan skor tunggal yang mencerminkan keseimbangan antara keduanya. Berguna ketika ingin melihat performa model di kedua metrik tersebut.\n",
        "\n",
        "   $$ \\text{F1-Score} = 2 \\times \\frac{\\text{Precision} \\times \\text{Recall}}{\\text{Precision} + \\text{Recall}} $$\n"
      ],
      "metadata": {
        "id": "D17nfbp2W7OB"
      }
    },
    {
      "cell_type": "markdown",
      "source": [
        "## **5.1. Perbandingan Model**\n",
        "\n",
        "| **Metrik**       | **Random Forest** | **XGBoost**   |\n",
        "|------------------|-------------------|---------------|\n",
        "| **Accuracy**     |       77.40%      | 75.71%        |\n",
        "| **Precision**    |       77.20%      | 75.02%        |\n",
        "| **Recall**       |       77.40%      | 75.71%        |\n",
        "| **F1-Score**     |       77.05%      | 74.99%        |"
      ],
      "metadata": {
        "id": "XdeHMypgaYGC"
      }
    },
    {
      "cell_type": "code",
      "source": [
        "# Data\n",
        "metrics = ['Accuracy', 'Precision', 'Recall', 'F1-Score']\n",
        "rf_scores = [77.40, 77.20, 77.40, 77.05]\n",
        "xgb_scores = [75.71, 75.02, 75.71, 74.99]\n",
        "\n",
        "x = np.arange(len(metrics))\n",
        "width = 0.25\n",
        "\n",
        "# Plot\n",
        "fig, ax = plt.subplots(figsize=(10, 6))\n",
        "color_rf = plt.cm.coolwarm(0.2)\n",
        "color_xgb = plt.cm.coolwarm(0.8)\n",
        "\n",
        "bar1 = ax.bar(x - width, rf_scores, width, label='Random Forest', color=plt.cm.coolwarm(0.6))\n",
        "bar2 = ax.bar(x, xgb_scores, width, label='XGBoost', color=plt.cm.coolwarm(0.2))\n",
        "\n",
        "for i, v in enumerate(rf_scores):\n",
        "    ax.text(x[i] - width, v, f'{v:.2f}%', ha='center', va='bottom')\n",
        "for i, v in enumerate(xgb_scores):\n",
        "    ax.text(x[i], v, f'{v:.2f}%', ha='center', va='bottom')\n",
        "\n",
        "ax.set_xlabel('Metrics')\n",
        "ax.set_ylabel('Scores (%)')\n",
        "ax.set_title('Comparison of Random Forest and XGBoost Metrics')\n",
        "ax.set_xticks(x)\n",
        "ax.set_xticklabels(metrics)\n",
        "ax.legend()\n",
        "plt.ylim(50, 100)\n",
        "plt.show()"
      ],
      "metadata": {
        "colab": {
          "base_uri": "https://localhost:8080/",
          "height": 564
        },
        "id": "9KXHaBgmkC_q",
        "outputId": "b4ecec5d-a91b-43ad-9a8a-a3c0abc2a637"
      },
      "execution_count": 26,
      "outputs": [
        {
          "output_type": "display_data",
          "data": {
            "text/plain": [
              "<Figure size 1000x600 with 1 Axes>"
            ],
            "image/png": "[encoded data removed]"
          },
          "metadata": {}
        }
      ]
    },
    {
      "cell_type": "markdown",
      "source": [
        "Hasil perbandingan kinerja metrik di atas menunjukkan bahwa:\n",
        "\n",
        "- **Random Forest** menunjukkan kinerja yang lebih baik dibandingkan dengan **XGBoost** pada semua metrik evaluasi (Accuracy, Precision, Recall, F1-Score).  \n",
        "  - Accuracy **77.40%** pada Random Forest lebih tinggi dibandingkan XGBoost yang hanya mencapai **75.71%**.  \n",
        "  - Precision dan Recall juga lebih baik pada Random Forest, masing-masing **77.20%** dan **77.40%**, dibandingkan XGBoost (**75.02%** dan **75.71%**).  \n",
        "  - **F1-Score**, yang merupakan rata-rata harmonis antara Precision dan Recall, menunjukkan hasil serupa dengan **77.05%** untuk Random Forest dibandingkan **74.99%** untuk XGBoost.  \n",
        "- **XGBoost** cenderung memiliki kinerja yang lebih rendah meskipun memiliki parameter yang dioptimasi dengan teknik hyperparameter tuning.  "
      ],
      "metadata": {
        "id": "rBGAUuqhZsy3"
      }
    },
    {
      "cell_type": "markdown",
      "source": [
        "## **5.2. Kesimpulan Modeling**\n",
        "\n",
        "- Berdasarkan metrik evaluasi, **Random Forest** adalah model terbaik untuk kasus ini karena memberikan performa lebih tinggi di semua metrik utama.  \n",
        "- Parameter optimal untuk Random Forest adalah:\n",
        "  - `max_depth`: None\n",
        "  - `min_samples_leaf`: 1\n",
        "  - `min_samples_split`: 2\n",
        "  - `n_estimators`: 100\n",
        "- Meski XGBoost memiliki parameter optimal seperti `colsample_bytree: 0.8` dan `max_depth: 10`, performanya belum dapat mengungguli Random Forest.  \n",
        "\n",
        "### **Rekomendasi**\n",
        "Karena Random Forest menunjukkan performa yang lebih baik, model ini direkomendasikan untuk digunakan dalam implementasi atau produksi. Meski performa XGBoost lebih rendah, eksplorasi lebih lanjut pada parameter seperti learning_rate atau gamma mungkin dapat meningkatkan hasilnya."
      ],
      "metadata": {
        "id": "uDSsnChwashr"
      }
    }
  ]
}